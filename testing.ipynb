{
 "cells": [
  {
   "cell_type": "code",
   "execution_count": 24,
   "id": "115ed154-e9bf-4f32-befa-4a214392fd97",
   "metadata": {},
   "outputs": [],
   "source": [
    "import joblib\n",
    "from sqlalchemy import create_engine\n",
    "\n",
    "import json\n",
    "import plotly\n",
    "import pandas as pd\n",
    "\n",
    "from nltk.stem import WordNetLemmatizer\n",
    "from nltk.tokenize import word_tokenize\n",
    "\n",
    "from plotly.graph_objs import Bar\n",
    "import joblib\n"
   ]
  },
  {
   "cell_type": "code",
   "execution_count": 2,
   "id": "98b91e1b-6f5d-441e-916e-086670353eea",
   "metadata": {},
   "outputs": [],
   "source": [
    "def tokenize(text):\n",
    "    tokens = word_tokenize(text)\n",
    "    lemmatizer = WordNetLemmatizer()\n",
    "\n",
    "    clean_tokens = []\n",
    "    for tok in tokens:\n",
    "        clean_tok = lemmatizer.lemmatize(tok).lower().strip()\n",
    "        clean_tokens.append(clean_tok)\n",
    "\n",
    "    return clean_tokens"
   ]
  },
  {
   "cell_type": "code",
   "execution_count": 3,
   "id": "be2ec3ee-806c-45ea-939f-58201506a9d0",
   "metadata": {},
   "outputs": [],
   "source": [
    "engine = create_engine(\"sqlite:///data/DisasterResponse.db\")\n",
    "df = pd.read_sql_table(\"DisasterTweets\", engine)"
   ]
  },
  {
   "cell_type": "code",
   "execution_count": 4,
   "id": "5925b86e-b6b5-45e1-9c43-60eed24b276f",
   "metadata": {},
   "outputs": [
    {
     "data": {
      "text/html": [
       "<div>\n",
       "<style scoped>\n",
       "    .dataframe tbody tr th:only-of-type {\n",
       "        vertical-align: middle;\n",
       "    }\n",
       "\n",
       "    .dataframe tbody tr th {\n",
       "        vertical-align: top;\n",
       "    }\n",
       "\n",
       "    .dataframe thead th {\n",
       "        text-align: right;\n",
       "    }\n",
       "</style>\n",
       "<table border=\"1\" class=\"dataframe\">\n",
       "  <thead>\n",
       "    <tr style=\"text-align: right;\">\n",
       "      <th></th>\n",
       "      <th>id</th>\n",
       "      <th>message</th>\n",
       "      <th>original</th>\n",
       "      <th>genre</th>\n",
       "      <th>related</th>\n",
       "      <th>request</th>\n",
       "      <th>offer</th>\n",
       "      <th>aid_related</th>\n",
       "      <th>medical_help</th>\n",
       "      <th>medical_products</th>\n",
       "      <th>...</th>\n",
       "      <th>aid_centers</th>\n",
       "      <th>other_infrastructure</th>\n",
       "      <th>weather_related</th>\n",
       "      <th>floods</th>\n",
       "      <th>storm</th>\n",
       "      <th>fire</th>\n",
       "      <th>earthquake</th>\n",
       "      <th>cold</th>\n",
       "      <th>other_weather</th>\n",
       "      <th>direct_report</th>\n",
       "    </tr>\n",
       "  </thead>\n",
       "  <tbody>\n",
       "    <tr>\n",
       "      <th>0</th>\n",
       "      <td>2</td>\n",
       "      <td>Weather update - a cold front from Cuba that c...</td>\n",
       "      <td>Un front froid se retrouve sur Cuba ce matin. ...</td>\n",
       "      <td>direct</td>\n",
       "      <td>1.0</td>\n",
       "      <td>0.0</td>\n",
       "      <td>0.0</td>\n",
       "      <td>0.0</td>\n",
       "      <td>0.0</td>\n",
       "      <td>0.0</td>\n",
       "      <td>...</td>\n",
       "      <td>0.0</td>\n",
       "      <td>0.0</td>\n",
       "      <td>0.0</td>\n",
       "      <td>0.0</td>\n",
       "      <td>0.0</td>\n",
       "      <td>0.0</td>\n",
       "      <td>0.0</td>\n",
       "      <td>0.0</td>\n",
       "      <td>0.0</td>\n",
       "      <td>0.0</td>\n",
       "    </tr>\n",
       "    <tr>\n",
       "      <th>1</th>\n",
       "      <td>7</td>\n",
       "      <td>Is the Hurricane over or is it not over</td>\n",
       "      <td>Cyclone nan fini osinon li pa fini</td>\n",
       "      <td>direct</td>\n",
       "      <td>1.0</td>\n",
       "      <td>0.0</td>\n",
       "      <td>0.0</td>\n",
       "      <td>1.0</td>\n",
       "      <td>0.0</td>\n",
       "      <td>0.0</td>\n",
       "      <td>...</td>\n",
       "      <td>0.0</td>\n",
       "      <td>0.0</td>\n",
       "      <td>1.0</td>\n",
       "      <td>0.0</td>\n",
       "      <td>1.0</td>\n",
       "      <td>0.0</td>\n",
       "      <td>0.0</td>\n",
       "      <td>0.0</td>\n",
       "      <td>0.0</td>\n",
       "      <td>0.0</td>\n",
       "    </tr>\n",
       "    <tr>\n",
       "      <th>2</th>\n",
       "      <td>8</td>\n",
       "      <td>Looking for someone but no name</td>\n",
       "      <td>Patnm, di Maryani relem pou li banm nouvel li ...</td>\n",
       "      <td>direct</td>\n",
       "      <td>1.0</td>\n",
       "      <td>0.0</td>\n",
       "      <td>0.0</td>\n",
       "      <td>0.0</td>\n",
       "      <td>0.0</td>\n",
       "      <td>0.0</td>\n",
       "      <td>...</td>\n",
       "      <td>0.0</td>\n",
       "      <td>0.0</td>\n",
       "      <td>0.0</td>\n",
       "      <td>0.0</td>\n",
       "      <td>0.0</td>\n",
       "      <td>0.0</td>\n",
       "      <td>0.0</td>\n",
       "      <td>0.0</td>\n",
       "      <td>0.0</td>\n",
       "      <td>0.0</td>\n",
       "    </tr>\n",
       "    <tr>\n",
       "      <th>3</th>\n",
       "      <td>9</td>\n",
       "      <td>UN reports Leogane 80-90 destroyed. Only Hospi...</td>\n",
       "      <td>UN reports Leogane 80-90 destroyed. Only Hospi...</td>\n",
       "      <td>direct</td>\n",
       "      <td>1.0</td>\n",
       "      <td>1.0</td>\n",
       "      <td>0.0</td>\n",
       "      <td>1.0</td>\n",
       "      <td>0.0</td>\n",
       "      <td>1.0</td>\n",
       "      <td>...</td>\n",
       "      <td>0.0</td>\n",
       "      <td>0.0</td>\n",
       "      <td>0.0</td>\n",
       "      <td>0.0</td>\n",
       "      <td>0.0</td>\n",
       "      <td>0.0</td>\n",
       "      <td>0.0</td>\n",
       "      <td>0.0</td>\n",
       "      <td>0.0</td>\n",
       "      <td>0.0</td>\n",
       "    </tr>\n",
       "    <tr>\n",
       "      <th>4</th>\n",
       "      <td>12</td>\n",
       "      <td>says: west side of Haiti, rest of the country ...</td>\n",
       "      <td>facade ouest d Haiti et le reste du pays aujou...</td>\n",
       "      <td>direct</td>\n",
       "      <td>1.0</td>\n",
       "      <td>0.0</td>\n",
       "      <td>0.0</td>\n",
       "      <td>0.0</td>\n",
       "      <td>0.0</td>\n",
       "      <td>0.0</td>\n",
       "      <td>...</td>\n",
       "      <td>0.0</td>\n",
       "      <td>0.0</td>\n",
       "      <td>0.0</td>\n",
       "      <td>0.0</td>\n",
       "      <td>0.0</td>\n",
       "      <td>0.0</td>\n",
       "      <td>0.0</td>\n",
       "      <td>0.0</td>\n",
       "      <td>0.0</td>\n",
       "      <td>0.0</td>\n",
       "    </tr>\n",
       "  </tbody>\n",
       "</table>\n",
       "<p>5 rows × 40 columns</p>\n",
       "</div>"
      ],
      "text/plain": [
       "   id                                            message  \\\n",
       "0   2  Weather update - a cold front from Cuba that c...   \n",
       "1   7            Is the Hurricane over or is it not over   \n",
       "2   8                    Looking for someone but no name   \n",
       "3   9  UN reports Leogane 80-90 destroyed. Only Hospi...   \n",
       "4  12  says: west side of Haiti, rest of the country ...   \n",
       "\n",
       "                                            original   genre  related  \\\n",
       "0  Un front froid se retrouve sur Cuba ce matin. ...  direct      1.0   \n",
       "1                 Cyclone nan fini osinon li pa fini  direct      1.0   \n",
       "2  Patnm, di Maryani relem pou li banm nouvel li ...  direct      1.0   \n",
       "3  UN reports Leogane 80-90 destroyed. Only Hospi...  direct      1.0   \n",
       "4  facade ouest d Haiti et le reste du pays aujou...  direct      1.0   \n",
       "\n",
       "   request  offer  aid_related  medical_help  medical_products  ...  \\\n",
       "0      0.0    0.0          0.0           0.0               0.0  ...   \n",
       "1      0.0    0.0          1.0           0.0               0.0  ...   \n",
       "2      0.0    0.0          0.0           0.0               0.0  ...   \n",
       "3      1.0    0.0          1.0           0.0               1.0  ...   \n",
       "4      0.0    0.0          0.0           0.0               0.0  ...   \n",
       "\n",
       "   aid_centers  other_infrastructure  weather_related  floods  storm  fire  \\\n",
       "0          0.0                   0.0              0.0     0.0    0.0   0.0   \n",
       "1          0.0                   0.0              1.0     0.0    1.0   0.0   \n",
       "2          0.0                   0.0              0.0     0.0    0.0   0.0   \n",
       "3          0.0                   0.0              0.0     0.0    0.0   0.0   \n",
       "4          0.0                   0.0              0.0     0.0    0.0   0.0   \n",
       "\n",
       "   earthquake  cold  other_weather  direct_report  \n",
       "0         0.0   0.0            0.0            0.0  \n",
       "1         0.0   0.0            0.0            0.0  \n",
       "2         0.0   0.0            0.0            0.0  \n",
       "3         0.0   0.0            0.0            0.0  \n",
       "4         0.0   0.0            0.0            0.0  \n",
       "\n",
       "[5 rows x 40 columns]"
      ]
     },
     "execution_count": 4,
     "metadata": {},
     "output_type": "execute_result"
    }
   ],
   "source": [
    "df.head()"
   ]
  },
  {
   "cell_type": "code",
   "execution_count": 5,
   "id": "077b9b3c-d8b9-4697-845c-3c3438b2c7d1",
   "metadata": {},
   "outputs": [],
   "source": [
    "model_long = joblib.load(\"models/classifier_gridLong.pkl\")\n",
    "model_grid = joblib.load(\"models/classifier_grid.pkl\")\n",
    "model = joblib.load(\"models/classifier.pkl\")"
   ]
  },
  {
   "cell_type": "code",
   "execution_count": 6,
   "id": "97ce91b5-49b6-4f4a-ad1e-2952117e5f24",
   "metadata": {},
   "outputs": [
    {
     "data": {
      "text/plain": [
       "array([[1., 0., 0., 0., 0., 0., 0., 0., 0., 0., 0., 0., 0., 0., 0., 0.,\n",
       "        0., 0., 0., 0., 0., 0., 0., 0., 0., 0., 0., 0., 0., 0., 0., 0.,\n",
       "        0., 0., 0., 0.]])"
      ]
     },
     "execution_count": 6,
     "metadata": {},
     "output_type": "execute_result"
    }
   ],
   "source": [
    "model_long.predict([\"My parent's are gone\"])"
   ]
  },
  {
   "cell_type": "code",
   "execution_count": 7,
   "id": "1f20393a-afa4-4ba1-b06c-a02a75fb9010",
   "metadata": {},
   "outputs": [
    {
     "data": {
      "text/plain": [
       "array([[1., 0., 0., 0., 0., 0., 0., 0., 0., 0., 0., 0., 0., 0., 0., 0.,\n",
       "        0., 0., 0., 0., 0., 0., 0., 0., 0., 0., 0., 0., 0., 0., 0., 0.,\n",
       "        0., 0., 0., 0.]])"
      ]
     },
     "execution_count": 7,
     "metadata": {},
     "output_type": "execute_result"
    }
   ],
   "source": [
    "model_grid.predict([\"My parent's are gone\"])"
   ]
  },
  {
   "cell_type": "code",
   "execution_count": 8,
   "id": "ca162412-9877-47e4-b88c-5a23ee4ecbe2",
   "metadata": {},
   "outputs": [
    {
     "data": {
      "text/plain": [
       "array([1., 0., 0., 0., 0., 0., 0., 0., 0., 0., 0., 0., 0., 0., 0., 0., 0.,\n",
       "       0., 0., 0., 0., 0., 0., 0., 0., 0., 0., 0., 0., 0., 0., 0., 0., 0.,\n",
       "       0., 0.])"
      ]
     },
     "execution_count": 8,
     "metadata": {},
     "output_type": "execute_result"
    }
   ],
   "source": [
    "model.predict([\"My parent's are gone\"])[0]"
   ]
  },
  {
   "cell_type": "code",
   "execution_count": 9,
   "id": "6b8ec46d-994c-4e2b-b670-e6d9c2f2f685",
   "metadata": {},
   "outputs": [
    {
     "data": {
      "text/plain": [
       "[array([[0.2       , 0.77733333, 0.02266667]]),\n",
       " array([[0.75, 0.25]]),\n",
       " array([[1., 0.]]),\n",
       " array([[0.64, 0.36]]),\n",
       " array([[0.91, 0.09]]),\n",
       " array([[1., 0.]]),\n",
       " array([[0.97, 0.03]]),\n",
       " array([[0.93, 0.07]]),\n",
       " array([[1., 0.]]),\n",
       " array([[1.]]),\n",
       " array([[0.93, 0.07]]),\n",
       " array([[0.85, 0.15]]),\n",
       " array([[0.82, 0.18]]),\n",
       " array([[0.8, 0.2]]),\n",
       " array([[0.9, 0.1]]),\n",
       " array([[0.99, 0.01]]),\n",
       " array([[1., 0.]]),\n",
       " array([[0.99, 0.01]]),\n",
       " array([[0.75, 0.25]]),\n",
       " array([[0.94, 0.06]]),\n",
       " array([[0.98, 0.02]]),\n",
       " array([[0.93, 0.07]]),\n",
       " array([[1., 0.]]),\n",
       " array([[1., 0.]]),\n",
       " array([[1., 0.]]),\n",
       " array([[1., 0.]]),\n",
       " array([[0.98, 0.02]]),\n",
       " array([[0.95, 0.05]]),\n",
       " array([[0.85166667, 0.14833333]]),\n",
       " array([[0.96666667, 0.03333333]]),\n",
       " array([[1., 0.]]),\n",
       " array([[1., 0.]]),\n",
       " array([[0.94, 0.06]]),\n",
       " array([[1., 0.]]),\n",
       " array([[0.96, 0.04]]),\n",
       " array([[0.73, 0.27]])]"
      ]
     },
     "execution_count": 9,
     "metadata": {},
     "output_type": "execute_result"
    }
   ],
   "source": [
    "model.predict_proba([\"My parent's are gone\"])"
   ]
  },
  {
   "cell_type": "code",
   "execution_count": 21,
   "id": "03b2f2f5-48f2-4f47-ac78-4c17b3f51ca8",
   "metadata": {},
   "outputs": [
    {
     "data": {
      "text/plain": [
       "2.0"
      ]
     },
     "execution_count": 21,
     "metadata": {},
     "output_type": "execute_result"
    }
   ],
   "source": [
    "df.related.max()"
   ]
  },
  {
   "cell_type": "code",
   "execution_count": 25,
   "id": "9e8d5fad-f92a-409f-93d0-6e6c71915479",
   "metadata": {},
   "outputs": [
    {
     "data": {
      "text/plain": [
       "0.0    25347\n",
       "1.0      860\n",
       "Name: military, dtype: int64"
      ]
     },
     "execution_count": 25,
     "metadata": {},
     "output_type": "execute_result"
    }
   ],
   "source": [
    "df.military.value_counts()"
   ]
  },
  {
   "cell_type": "code",
   "execution_count": 24,
   "id": "d56d9d65-30d6-453b-bd9a-dae3e54143d2",
   "metadata": {},
   "outputs": [
    {
     "data": {
      "text/plain": [
       "Index(['id', 'message', 'original', 'genre', 'related', 'request', 'offer',\n",
       "       'aid_related', 'medical_help', 'medical_products', 'search_and_rescue',\n",
       "       'security', 'military', 'child_alone', 'water', 'food', 'shelter',\n",
       "       'clothing', 'money', 'missing_people', 'refugees', 'death', 'other_aid',\n",
       "       'infrastructure_related', 'transport', 'buildings', 'electricity',\n",
       "       'tools', 'hospitals', 'shops', 'aid_centers', 'other_infrastructure',\n",
       "       'weather_related', 'floods', 'storm', 'fire', 'earthquake', 'cold',\n",
       "       'other_weather', 'direct_report'],\n",
       "      dtype='object')"
      ]
     },
     "execution_count": 24,
     "metadata": {},
     "output_type": "execute_result"
    }
   ],
   "source": [
    "df.columns"
   ]
  },
  {
   "cell_type": "code",
   "execution_count": 6,
   "id": "d08c6992-6b34-44c1-8333-c7a3b5a3110c",
   "metadata": {},
   "outputs": [],
   "source": [
    "freq_dict = {}\n",
    "for col in df.columns[4:]:\n",
    "    freq_dict.update({col: df[col].sum()})"
   ]
  },
  {
   "cell_type": "code",
   "execution_count": 7,
   "id": "91282f4e-8dcc-44fd-9ca1-d58fb12f55a5",
   "metadata": {},
   "outputs": [
    {
     "data": {
      "text/plain": [
       "{'related': 20298.0,\n",
       " 'request': 4480.0,\n",
       " 'offer': 119.0,\n",
       " 'aid_related': 10878.0,\n",
       " 'medical_help': 2087.0,\n",
       " 'medical_products': 1314.0,\n",
       " 'search_and_rescue': 724.0,\n",
       " 'security': 471.0,\n",
       " 'military': 860.0,\n",
       " 'child_alone': 0.0,\n",
       " 'water': 1674.0,\n",
       " 'food': 2930.0,\n",
       " 'shelter': 2319.0,\n",
       " 'clothing': 406.0,\n",
       " 'money': 604.0,\n",
       " 'missing_people': 299.0,\n",
       " 'refugees': 876.0,\n",
       " 'death': 1196.0,\n",
       " 'other_aid': 3448.0,\n",
       " 'infrastructure_related': 1705.0,\n",
       " 'transport': 1203.0,\n",
       " 'buildings': 1335.0,\n",
       " 'electricity': 534.0,\n",
       " 'tools': 159.0,\n",
       " 'hospitals': 283.0,\n",
       " 'shops': 120.0,\n",
       " 'aid_centers': 309.0,\n",
       " 'other_infrastructure': 1151.0,\n",
       " 'weather_related': 7302.0,\n",
       " 'floods': 2158.0,\n",
       " 'storm': 2448.0,\n",
       " 'fire': 282.0,\n",
       " 'earthquake': 2453.0,\n",
       " 'cold': 530.0,\n",
       " 'other_weather': 1376.0,\n",
       " 'direct_report': 5080.0}"
      ]
     },
     "execution_count": 7,
     "metadata": {},
     "output_type": "execute_result"
    }
   ],
   "source": [
    "freq_dict"
   ]
  },
  {
   "cell_type": "code",
   "execution_count": 38,
   "id": "06710ec8-1a43-4a73-80ff-24d25ed09efc",
   "metadata": {},
   "outputs": [
    {
     "data": {
      "text/html": [
       "<div>\n",
       "<style scoped>\n",
       "    .dataframe tbody tr th:only-of-type {\n",
       "        vertical-align: middle;\n",
       "    }\n",
       "\n",
       "    .dataframe tbody tr th {\n",
       "        vertical-align: top;\n",
       "    }\n",
       "\n",
       "    .dataframe thead th {\n",
       "        text-align: right;\n",
       "    }\n",
       "</style>\n",
       "<table border=\"1\" class=\"dataframe\">\n",
       "  <thead>\n",
       "    <tr style=\"text-align: right;\">\n",
       "      <th></th>\n",
       "      <th>freq</th>\n",
       "    </tr>\n",
       "  </thead>\n",
       "  <tbody>\n",
       "    <tr>\n",
       "      <th>related</th>\n",
       "      <td>20298.0</td>\n",
       "    </tr>\n",
       "    <tr>\n",
       "      <th>request</th>\n",
       "      <td>4480.0</td>\n",
       "    </tr>\n",
       "    <tr>\n",
       "      <th>offer</th>\n",
       "      <td>119.0</td>\n",
       "    </tr>\n",
       "    <tr>\n",
       "      <th>aid_related</th>\n",
       "      <td>10878.0</td>\n",
       "    </tr>\n",
       "    <tr>\n",
       "      <th>medical_help</th>\n",
       "      <td>2087.0</td>\n",
       "    </tr>\n",
       "    <tr>\n",
       "      <th>medical_products</th>\n",
       "      <td>1314.0</td>\n",
       "    </tr>\n",
       "    <tr>\n",
       "      <th>search_and_rescue</th>\n",
       "      <td>724.0</td>\n",
       "    </tr>\n",
       "    <tr>\n",
       "      <th>security</th>\n",
       "      <td>471.0</td>\n",
       "    </tr>\n",
       "    <tr>\n",
       "      <th>military</th>\n",
       "      <td>860.0</td>\n",
       "    </tr>\n",
       "    <tr>\n",
       "      <th>child_alone</th>\n",
       "      <td>0.0</td>\n",
       "    </tr>\n",
       "    <tr>\n",
       "      <th>water</th>\n",
       "      <td>1674.0</td>\n",
       "    </tr>\n",
       "    <tr>\n",
       "      <th>food</th>\n",
       "      <td>2930.0</td>\n",
       "    </tr>\n",
       "    <tr>\n",
       "      <th>shelter</th>\n",
       "      <td>2319.0</td>\n",
       "    </tr>\n",
       "    <tr>\n",
       "      <th>clothing</th>\n",
       "      <td>406.0</td>\n",
       "    </tr>\n",
       "    <tr>\n",
       "      <th>money</th>\n",
       "      <td>604.0</td>\n",
       "    </tr>\n",
       "    <tr>\n",
       "      <th>missing_people</th>\n",
       "      <td>299.0</td>\n",
       "    </tr>\n",
       "    <tr>\n",
       "      <th>refugees</th>\n",
       "      <td>876.0</td>\n",
       "    </tr>\n",
       "    <tr>\n",
       "      <th>death</th>\n",
       "      <td>1196.0</td>\n",
       "    </tr>\n",
       "    <tr>\n",
       "      <th>other_aid</th>\n",
       "      <td>3448.0</td>\n",
       "    </tr>\n",
       "    <tr>\n",
       "      <th>infrastructure_related</th>\n",
       "      <td>1705.0</td>\n",
       "    </tr>\n",
       "    <tr>\n",
       "      <th>transport</th>\n",
       "      <td>1203.0</td>\n",
       "    </tr>\n",
       "    <tr>\n",
       "      <th>buildings</th>\n",
       "      <td>1335.0</td>\n",
       "    </tr>\n",
       "    <tr>\n",
       "      <th>electricity</th>\n",
       "      <td>534.0</td>\n",
       "    </tr>\n",
       "    <tr>\n",
       "      <th>tools</th>\n",
       "      <td>159.0</td>\n",
       "    </tr>\n",
       "    <tr>\n",
       "      <th>hospitals</th>\n",
       "      <td>283.0</td>\n",
       "    </tr>\n",
       "    <tr>\n",
       "      <th>shops</th>\n",
       "      <td>120.0</td>\n",
       "    </tr>\n",
       "    <tr>\n",
       "      <th>aid_centers</th>\n",
       "      <td>309.0</td>\n",
       "    </tr>\n",
       "    <tr>\n",
       "      <th>other_infrastructure</th>\n",
       "      <td>1151.0</td>\n",
       "    </tr>\n",
       "    <tr>\n",
       "      <th>weather_related</th>\n",
       "      <td>7302.0</td>\n",
       "    </tr>\n",
       "    <tr>\n",
       "      <th>floods</th>\n",
       "      <td>2158.0</td>\n",
       "    </tr>\n",
       "    <tr>\n",
       "      <th>storm</th>\n",
       "      <td>2448.0</td>\n",
       "    </tr>\n",
       "    <tr>\n",
       "      <th>fire</th>\n",
       "      <td>282.0</td>\n",
       "    </tr>\n",
       "    <tr>\n",
       "      <th>earthquake</th>\n",
       "      <td>2453.0</td>\n",
       "    </tr>\n",
       "    <tr>\n",
       "      <th>cold</th>\n",
       "      <td>530.0</td>\n",
       "    </tr>\n",
       "    <tr>\n",
       "      <th>other_weather</th>\n",
       "      <td>1376.0</td>\n",
       "    </tr>\n",
       "    <tr>\n",
       "      <th>direct_report</th>\n",
       "      <td>5080.0</td>\n",
       "    </tr>\n",
       "  </tbody>\n",
       "</table>\n",
       "</div>"
      ],
      "text/plain": [
       "                           freq\n",
       "related                 20298.0\n",
       "request                  4480.0\n",
       "offer                     119.0\n",
       "aid_related             10878.0\n",
       "medical_help             2087.0\n",
       "medical_products         1314.0\n",
       "search_and_rescue         724.0\n",
       "security                  471.0\n",
       "military                  860.0\n",
       "child_alone                 0.0\n",
       "water                    1674.0\n",
       "food                     2930.0\n",
       "shelter                  2319.0\n",
       "clothing                  406.0\n",
       "money                     604.0\n",
       "missing_people            299.0\n",
       "refugees                  876.0\n",
       "death                    1196.0\n",
       "other_aid                3448.0\n",
       "infrastructure_related   1705.0\n",
       "transport                1203.0\n",
       "buildings                1335.0\n",
       "electricity               534.0\n",
       "tools                     159.0\n",
       "hospitals                 283.0\n",
       "shops                     120.0\n",
       "aid_centers               309.0\n",
       "other_infrastructure     1151.0\n",
       "weather_related          7302.0\n",
       "floods                   2158.0\n",
       "storm                    2448.0\n",
       "fire                      282.0\n",
       "earthquake               2453.0\n",
       "cold                      530.0\n",
       "other_weather            1376.0\n",
       "direct_report            5080.0"
      ]
     },
     "execution_count": 38,
     "metadata": {},
     "output_type": "execute_result"
    }
   ],
   "source": [
    "data_freq = pd.DataFrame.from_dict(freq_dict, orient=\"index\", columns=[\"freq\"])\n",
    "data_freq"
   ]
  },
  {
   "cell_type": "code",
   "execution_count": 34,
   "id": "ef8dab5e-c113-4f65-9489-6170f3d70507",
   "metadata": {},
   "outputs": [
    {
     "data": {
      "text/plain": [
       "Index([0, 'freq'], dtype='object')"
      ]
     },
     "execution_count": 34,
     "metadata": {},
     "output_type": "execute_result"
    }
   ],
   "source": [
    "data_freq.columns"
   ]
  },
  {
   "cell_type": "code",
   "execution_count": 32,
   "id": "75f2a9e6-3847-4942-b94e-51d26be8d2af",
   "metadata": {},
   "outputs": [
    {
     "ename": "AttributeError",
     "evalue": "module 'plotly.express' has no attribute 'Bar'",
     "output_type": "error",
     "traceback": [
      "\u001b[0;31m---------------------------------------------------------------------------\u001b[0m",
      "\u001b[0;31mAttributeError\u001b[0m                            Traceback (most recent call last)",
      "Input \u001b[0;32mIn [45]\u001b[0m, in \u001b[0;36m<cell line: 2>\u001b[0;34m()\u001b[0m\n\u001b[1;32m      1\u001b[0m \u001b[38;5;28;01mimport\u001b[39;00m \u001b[38;5;21;01mplotly\u001b[39;00m\u001b[38;5;21;01m.\u001b[39;00m\u001b[38;5;21;01mexpress\u001b[39;00m \u001b[38;5;28;01mas\u001b[39;00m \u001b[38;5;21;01mpx\u001b[39;00m\n\u001b[0;32m----> 2\u001b[0m fig \u001b[38;5;241m=\u001b[39m \u001b[43mpx\u001b[49m\u001b[38;5;241;43m.\u001b[39;49m\u001b[43mBar\u001b[49m(x\u001b[38;5;241m=\u001b[39mdata_freq\u001b[38;5;241m.\u001b[39mindex, y\u001b[38;5;241m=\u001b[39mdata_freq\u001b[38;5;241m.\u001b[39mfreq)\n\u001b[1;32m      3\u001b[0m fig\u001b[38;5;241m.\u001b[39mshow()\n",
      "\u001b[0;31mAttributeError\u001b[0m: module 'plotly.express' has no attribute 'Bar'"
     ]
    }
   ],
   "source": [
    "import plotly.express as px\n",
    "fig = px.histogram(x=data_freq.index, y=data_freq.freq)\n",
    "fig.show()"
   ]
  },
  {
   "cell_type": "code",
   "execution_count": 33,
   "id": "a58fd159-a0b3-4a82-958a-97a533ea8e59",
   "metadata": {},
   "outputs": [
    {
     "data": {
      "text/plain": [
       "26207"
      ]
     },
     "execution_count": 33,
     "metadata": {},
     "output_type": "execute_result"
    }
   ],
   "source": [
    "len(df)"
   ]
  },
  {
   "cell_type": "code",
   "execution_count": 39,
   "id": "a281efc1-ad22-4983-94e3-745fe50ed470",
   "metadata": {},
   "outputs": [],
   "source": [
    "import plotly.graph_objs as go"
   ]
  },
  {
   "cell_type": "code",
   "execution_count": 47,
   "id": "73745762-1a0e-479e-a722-d391ca39f348",
   "metadata": {},
   "outputs": [
    {
     "data": {
      "application/vnd.plotly.v1+json": {
       "config": {
        "plotlyServerURL": "https://plot.ly"
       },
       "data": [
        {
         "textposition": "outside",
         "texttemplate": "%{text:.2s}",
         "type": "bar",
         "x": [
          "related",
          "request",
          "offer",
          "aid_related",
          "medical_help",
          "medical_products",
          "search_and_rescue",
          "security",
          "military",
          "child_alone",
          "water",
          "food",
          "shelter",
          "clothing",
          "money",
          "missing_people",
          "refugees",
          "death",
          "other_aid",
          "infrastructure_related",
          "transport",
          "buildings",
          "electricity",
          "tools",
          "hospitals",
          "shops",
          "aid_centers",
          "other_infrastructure",
          "weather_related",
          "floods",
          "storm",
          "fire",
          "earthquake",
          "cold",
          "other_weather",
          "direct_report"
         ],
         "y": [
          20298,
          4480,
          119,
          10878,
          2087,
          1314,
          724,
          471,
          860,
          0,
          1674,
          2930,
          2319,
          406,
          604,
          299,
          876,
          1196,
          3448,
          1705,
          1203,
          1335,
          534,
          159,
          283,
          120,
          309,
          1151,
          7302,
          2158,
          2448,
          282,
          2453,
          530,
          1376,
          5080
         ]
        }
       ],
       "layout": {
        "autosize": true,
        "template": {
         "data": {
          "bar": [
           {
            "error_x": {
             "color": "#2a3f5f"
            },
            "error_y": {
             "color": "#2a3f5f"
            },
            "marker": {
             "line": {
              "color": "#E5ECF6",
              "width": 0.5
             },
             "pattern": {
              "fillmode": "overlay",
              "size": 10,
              "solidity": 0.2
             }
            },
            "type": "bar"
           }
          ],
          "barpolar": [
           {
            "marker": {
             "line": {
              "color": "#E5ECF6",
              "width": 0.5
             },
             "pattern": {
              "fillmode": "overlay",
              "size": 10,
              "solidity": 0.2
             }
            },
            "type": "barpolar"
           }
          ],
          "carpet": [
           {
            "aaxis": {
             "endlinecolor": "#2a3f5f",
             "gridcolor": "white",
             "linecolor": "white",
             "minorgridcolor": "white",
             "startlinecolor": "#2a3f5f"
            },
            "baxis": {
             "endlinecolor": "#2a3f5f",
             "gridcolor": "white",
             "linecolor": "white",
             "minorgridcolor": "white",
             "startlinecolor": "#2a3f5f"
            },
            "type": "carpet"
           }
          ],
          "choropleth": [
           {
            "colorbar": {
             "outlinewidth": 0,
             "ticks": ""
            },
            "type": "choropleth"
           }
          ],
          "contour": [
           {
            "colorbar": {
             "outlinewidth": 0,
             "ticks": ""
            },
            "colorscale": [
             [
              0,
              "#0d0887"
             ],
             [
              0.1111111111111111,
              "#46039f"
             ],
             [
              0.2222222222222222,
              "#7201a8"
             ],
             [
              0.3333333333333333,
              "#9c179e"
             ],
             [
              0.4444444444444444,
              "#bd3786"
             ],
             [
              0.5555555555555556,
              "#d8576b"
             ],
             [
              0.6666666666666666,
              "#ed7953"
             ],
             [
              0.7777777777777778,
              "#fb9f3a"
             ],
             [
              0.8888888888888888,
              "#fdca26"
             ],
             [
              1,
              "#f0f921"
             ]
            ],
            "type": "contour"
           }
          ],
          "contourcarpet": [
           {
            "colorbar": {
             "outlinewidth": 0,
             "ticks": ""
            },
            "type": "contourcarpet"
           }
          ],
          "heatmap": [
           {
            "colorbar": {
             "outlinewidth": 0,
             "ticks": ""
            },
            "colorscale": [
             [
              0,
              "#0d0887"
             ],
             [
              0.1111111111111111,
              "#46039f"
             ],
             [
              0.2222222222222222,
              "#7201a8"
             ],
             [
              0.3333333333333333,
              "#9c179e"
             ],
             [
              0.4444444444444444,
              "#bd3786"
             ],
             [
              0.5555555555555556,
              "#d8576b"
             ],
             [
              0.6666666666666666,
              "#ed7953"
             ],
             [
              0.7777777777777778,
              "#fb9f3a"
             ],
             [
              0.8888888888888888,
              "#fdca26"
             ],
             [
              1,
              "#f0f921"
             ]
            ],
            "type": "heatmap"
           }
          ],
          "heatmapgl": [
           {
            "colorbar": {
             "outlinewidth": 0,
             "ticks": ""
            },
            "colorscale": [
             [
              0,
              "#0d0887"
             ],
             [
              0.1111111111111111,
              "#46039f"
             ],
             [
              0.2222222222222222,
              "#7201a8"
             ],
             [
              0.3333333333333333,
              "#9c179e"
             ],
             [
              0.4444444444444444,
              "#bd3786"
             ],
             [
              0.5555555555555556,
              "#d8576b"
             ],
             [
              0.6666666666666666,
              "#ed7953"
             ],
             [
              0.7777777777777778,
              "#fb9f3a"
             ],
             [
              0.8888888888888888,
              "#fdca26"
             ],
             [
              1,
              "#f0f921"
             ]
            ],
            "type": "heatmapgl"
           }
          ],
          "histogram": [
           {
            "marker": {
             "pattern": {
              "fillmode": "overlay",
              "size": 10,
              "solidity": 0.2
             }
            },
            "type": "histogram"
           }
          ],
          "histogram2d": [
           {
            "colorbar": {
             "outlinewidth": 0,
             "ticks": ""
            },
            "colorscale": [
             [
              0,
              "#0d0887"
             ],
             [
              0.1111111111111111,
              "#46039f"
             ],
             [
              0.2222222222222222,
              "#7201a8"
             ],
             [
              0.3333333333333333,
              "#9c179e"
             ],
             [
              0.4444444444444444,
              "#bd3786"
             ],
             [
              0.5555555555555556,
              "#d8576b"
             ],
             [
              0.6666666666666666,
              "#ed7953"
             ],
             [
              0.7777777777777778,
              "#fb9f3a"
             ],
             [
              0.8888888888888888,
              "#fdca26"
             ],
             [
              1,
              "#f0f921"
             ]
            ],
            "type": "histogram2d"
           }
          ],
          "histogram2dcontour": [
           {
            "colorbar": {
             "outlinewidth": 0,
             "ticks": ""
            },
            "colorscale": [
             [
              0,
              "#0d0887"
             ],
             [
              0.1111111111111111,
              "#46039f"
             ],
             [
              0.2222222222222222,
              "#7201a8"
             ],
             [
              0.3333333333333333,
              "#9c179e"
             ],
             [
              0.4444444444444444,
              "#bd3786"
             ],
             [
              0.5555555555555556,
              "#d8576b"
             ],
             [
              0.6666666666666666,
              "#ed7953"
             ],
             [
              0.7777777777777778,
              "#fb9f3a"
             ],
             [
              0.8888888888888888,
              "#fdca26"
             ],
             [
              1,
              "#f0f921"
             ]
            ],
            "type": "histogram2dcontour"
           }
          ],
          "mesh3d": [
           {
            "colorbar": {
             "outlinewidth": 0,
             "ticks": ""
            },
            "type": "mesh3d"
           }
          ],
          "parcoords": [
           {
            "line": {
             "colorbar": {
              "outlinewidth": 0,
              "ticks": ""
             }
            },
            "type": "parcoords"
           }
          ],
          "pie": [
           {
            "automargin": true,
            "type": "pie"
           }
          ],
          "scatter": [
           {
            "marker": {
             "colorbar": {
              "outlinewidth": 0,
              "ticks": ""
             }
            },
            "type": "scatter"
           }
          ],
          "scatter3d": [
           {
            "line": {
             "colorbar": {
              "outlinewidth": 0,
              "ticks": ""
             }
            },
            "marker": {
             "colorbar": {
              "outlinewidth": 0,
              "ticks": ""
             }
            },
            "type": "scatter3d"
           }
          ],
          "scattercarpet": [
           {
            "marker": {
             "colorbar": {
              "outlinewidth": 0,
              "ticks": ""
             }
            },
            "type": "scattercarpet"
           }
          ],
          "scattergeo": [
           {
            "marker": {
             "colorbar": {
              "outlinewidth": 0,
              "ticks": ""
             }
            },
            "type": "scattergeo"
           }
          ],
          "scattergl": [
           {
            "marker": {
             "colorbar": {
              "outlinewidth": 0,
              "ticks": ""
             }
            },
            "type": "scattergl"
           }
          ],
          "scattermapbox": [
           {
            "marker": {
             "colorbar": {
              "outlinewidth": 0,
              "ticks": ""
             }
            },
            "type": "scattermapbox"
           }
          ],
          "scatterpolar": [
           {
            "marker": {
             "colorbar": {
              "outlinewidth": 0,
              "ticks": ""
             }
            },
            "type": "scatterpolar"
           }
          ],
          "scatterpolargl": [
           {
            "marker": {
             "colorbar": {
              "outlinewidth": 0,
              "ticks": ""
             }
            },
            "type": "scatterpolargl"
           }
          ],
          "scatterternary": [
           {
            "marker": {
             "colorbar": {
              "outlinewidth": 0,
              "ticks": ""
             }
            },
            "type": "scatterternary"
           }
          ],
          "surface": [
           {
            "colorbar": {
             "outlinewidth": 0,
             "ticks": ""
            },
            "colorscale": [
             [
              0,
              "#0d0887"
             ],
             [
              0.1111111111111111,
              "#46039f"
             ],
             [
              0.2222222222222222,
              "#7201a8"
             ],
             [
              0.3333333333333333,
              "#9c179e"
             ],
             [
              0.4444444444444444,
              "#bd3786"
             ],
             [
              0.5555555555555556,
              "#d8576b"
             ],
             [
              0.6666666666666666,
              "#ed7953"
             ],
             [
              0.7777777777777778,
              "#fb9f3a"
             ],
             [
              0.8888888888888888,
              "#fdca26"
             ],
             [
              1,
              "#f0f921"
             ]
            ],
            "type": "surface"
           }
          ],
          "table": [
           {
            "cells": {
             "fill": {
              "color": "#EBF0F8"
             },
             "line": {
              "color": "white"
             }
            },
            "header": {
             "fill": {
              "color": "#C8D4E3"
             },
             "line": {
              "color": "white"
             }
            },
            "type": "table"
           }
          ]
         },
         "layout": {
          "annotationdefaults": {
           "arrowcolor": "#2a3f5f",
           "arrowhead": 0,
           "arrowwidth": 1
          },
          "autotypenumbers": "strict",
          "coloraxis": {
           "colorbar": {
            "outlinewidth": 0,
            "ticks": ""
           }
          },
          "colorscale": {
           "diverging": [
            [
             0,
             "#8e0152"
            ],
            [
             0.1,
             "#c51b7d"
            ],
            [
             0.2,
             "#de77ae"
            ],
            [
             0.3,
             "#f1b6da"
            ],
            [
             0.4,
             "#fde0ef"
            ],
            [
             0.5,
             "#f7f7f7"
            ],
            [
             0.6,
             "#e6f5d0"
            ],
            [
             0.7,
             "#b8e186"
            ],
            [
             0.8,
             "#7fbc41"
            ],
            [
             0.9,
             "#4d9221"
            ],
            [
             1,
             "#276419"
            ]
           ],
           "sequential": [
            [
             0,
             "#0d0887"
            ],
            [
             0.1111111111111111,
             "#46039f"
            ],
            [
             0.2222222222222222,
             "#7201a8"
            ],
            [
             0.3333333333333333,
             "#9c179e"
            ],
            [
             0.4444444444444444,
             "#bd3786"
            ],
            [
             0.5555555555555556,
             "#d8576b"
            ],
            [
             0.6666666666666666,
             "#ed7953"
            ],
            [
             0.7777777777777778,
             "#fb9f3a"
            ],
            [
             0.8888888888888888,
             "#fdca26"
            ],
            [
             1,
             "#f0f921"
            ]
           ],
           "sequentialminus": [
            [
             0,
             "#0d0887"
            ],
            [
             0.1111111111111111,
             "#46039f"
            ],
            [
             0.2222222222222222,
             "#7201a8"
            ],
            [
             0.3333333333333333,
             "#9c179e"
            ],
            [
             0.4444444444444444,
             "#bd3786"
            ],
            [
             0.5555555555555556,
             "#d8576b"
            ],
            [
             0.6666666666666666,
             "#ed7953"
            ],
            [
             0.7777777777777778,
             "#fb9f3a"
            ],
            [
             0.8888888888888888,
             "#fdca26"
            ],
            [
             1,
             "#f0f921"
            ]
           ]
          },
          "colorway": [
           "#636efa",
           "#EF553B",
           "#00cc96",
           "#ab63fa",
           "#FFA15A",
           "#19d3f3",
           "#FF6692",
           "#B6E880",
           "#FF97FF",
           "#FECB52"
          ],
          "font": {
           "color": "#2a3f5f"
          },
          "geo": {
           "bgcolor": "white",
           "lakecolor": "white",
           "landcolor": "#E5ECF6",
           "showlakes": true,
           "showland": true,
           "subunitcolor": "white"
          },
          "hoverlabel": {
           "align": "left"
          },
          "hovermode": "closest",
          "mapbox": {
           "style": "light"
          },
          "paper_bgcolor": "white",
          "plot_bgcolor": "#E5ECF6",
          "polar": {
           "angularaxis": {
            "gridcolor": "white",
            "linecolor": "white",
            "ticks": ""
           },
           "bgcolor": "#E5ECF6",
           "radialaxis": {
            "gridcolor": "white",
            "linecolor": "white",
            "ticks": ""
           }
          },
          "scene": {
           "xaxis": {
            "backgroundcolor": "#E5ECF6",
            "gridcolor": "white",
            "gridwidth": 2,
            "linecolor": "white",
            "showbackground": true,
            "ticks": "",
            "zerolinecolor": "white"
           },
           "yaxis": {
            "backgroundcolor": "#E5ECF6",
            "gridcolor": "white",
            "gridwidth": 2,
            "linecolor": "white",
            "showbackground": true,
            "ticks": "",
            "zerolinecolor": "white"
           },
           "zaxis": {
            "backgroundcolor": "#E5ECF6",
            "gridcolor": "white",
            "gridwidth": 2,
            "linecolor": "white",
            "showbackground": true,
            "ticks": "",
            "zerolinecolor": "white"
           }
          },
          "shapedefaults": {
           "line": {
            "color": "#2a3f5f"
           }
          },
          "ternary": {
           "aaxis": {
            "gridcolor": "white",
            "linecolor": "white",
            "ticks": ""
           },
           "baxis": {
            "gridcolor": "white",
            "linecolor": "white",
            "ticks": ""
           },
           "bgcolor": "#E5ECF6",
           "caxis": {
            "gridcolor": "white",
            "linecolor": "white",
            "ticks": ""
           }
          },
          "title": {
           "x": 0.05
          },
          "xaxis": {
           "automargin": true,
           "gridcolor": "white",
           "linecolor": "white",
           "ticks": "",
           "title": {
            "standoff": 15
           },
           "zerolinecolor": "white",
           "zerolinewidth": 2
          },
          "yaxis": {
           "automargin": true,
           "gridcolor": "white",
           "linecolor": "white",
           "ticks": "",
           "title": {
            "standoff": 15
           },
           "zerolinecolor": "white",
           "zerolinewidth": 2
          }
         }
        },
        "uniformtext": {
         "minsize": 8,
         "mode": "hide"
        },
        "xaxis": {
         "autorange": true,
         "range": [
          -0.5,
          35.5
         ],
         "type": "category"
        },
        "yaxis": {
         "autorange": true,
         "range": [
          0,
          21366.315789473683
         ],
         "type": "linear"
        }
       }
      },
      "image/png": "[encoded data removed]",
      "text/html": [
       "<div>                            <div id=\"bc66b511-23db-4e7c-8963-9a3c85100e62\" class=\"plotly-graph-div\" style=\"height:525px; width:100%;\"></div>            <script type=\"text/javascript\">                require([\"plotly\"], function(Plotly) {                    window.PLOTLYENV=window.PLOTLYENV || {};                                    if (document.getElementById(\"bc66b511-23db-4e7c-8963-9a3c85100e62\")) {                    Plotly.newPlot(                        \"bc66b511-23db-4e7c-8963-9a3c85100e62\",                        [{\"x\":[\"related\",\"request\",\"offer\",\"aid_related\",\"medical_help\",\"medical_products\",\"search_and_rescue\",\"security\",\"military\",\"child_alone\",\"water\",\"food\",\"shelter\",\"clothing\",\"money\",\"missing_people\",\"refugees\",\"death\",\"other_aid\",\"infrastructure_related\",\"transport\",\"buildings\",\"electricity\",\"tools\",\"hospitals\",\"shops\",\"aid_centers\",\"other_infrastructure\",\"weather_related\",\"floods\",\"storm\",\"fire\",\"earthquake\",\"cold\",\"other_weather\",\"direct_report\"],\"y\":[20298.0,4480.0,119.0,10878.0,2087.0,1314.0,724.0,471.0,860.0,0.0,1674.0,2930.0,2319.0,406.0,604.0,299.0,876.0,1196.0,3448.0,1705.0,1203.0,1335.0,534.0,159.0,283.0,120.0,309.0,1151.0,7302.0,2158.0,2448.0,282.0,2453.0,530.0,1376.0,5080.0],\"type\":\"bar\",\"textposition\":\"outside\",\"texttemplate\":\"%{text:.2s}\"}],                        {\"template\":{\"data\":{\"bar\":[{\"error_x\":{\"color\":\"#2a3f5f\"},\"error_y\":{\"color\":\"#2a3f5f\"},\"marker\":{\"line\":{\"color\":\"#E5ECF6\",\"width\":0.5},\"pattern\":{\"fillmode\":\"overlay\",\"size\":10,\"solidity\":0.2}},\"type\":\"bar\"}],\"barpolar\":[{\"marker\":{\"line\":{\"color\":\"#E5ECF6\",\"width\":0.5},\"pattern\":{\"fillmode\":\"overlay\",\"size\":10,\"solidity\":0.2}},\"type\":\"barpolar\"}],\"carpet\":[{\"aaxis\":{\"endlinecolor\":\"#2a3f5f\",\"gridcolor\":\"white\",\"linecolor\":\"white\",\"minorgridcolor\":\"white\",\"startlinecolor\":\"#2a3f5f\"},\"baxis\":{\"endlinecolor\":\"#2a3f5f\",\"gridcolor\":\"white\",\"linecolor\":\"white\",\"minorgridcolor\":\"white\",\"startlinecolor\":\"#2a3f5f\"},\"type\":\"carpet\"}],\"choropleth\":[{\"colorbar\":{\"outlinewidth\":0,\"ticks\":\"\"},\"type\":\"choropleth\"}],\"contour\":[{\"colorbar\":{\"outlinewidth\":0,\"ticks\":\"\"},\"colorscale\":[[0.0,\"#0d0887\"],[0.1111111111111111,\"#46039f\"],[0.2222222222222222,\"#7201a8\"],[0.3333333333333333,\"#9c179e\"],[0.4444444444444444,\"#bd3786\"],[0.5555555555555556,\"#d8576b\"],[0.6666666666666666,\"#ed7953\"],[0.7777777777777778,\"#fb9f3a\"],[0.8888888888888888,\"#fdca26\"],[1.0,\"#f0f921\"]],\"type\":\"contour\"}],\"contourcarpet\":[{\"colorbar\":{\"outlinewidth\":0,\"ticks\":\"\"},\"type\":\"contourcarpet\"}],\"heatmap\":[{\"colorbar\":{\"outlinewidth\":0,\"ticks\":\"\"},\"colorscale\":[[0.0,\"#0d0887\"],[0.1111111111111111,\"#46039f\"],[0.2222222222222222,\"#7201a8\"],[0.3333333333333333,\"#9c179e\"],[0.4444444444444444,\"#bd3786\"],[0.5555555555555556,\"#d8576b\"],[0.6666666666666666,\"#ed7953\"],[0.7777777777777778,\"#fb9f3a\"],[0.8888888888888888,\"#fdca26\"],[1.0,\"#f0f921\"]],\"type\":\"heatmap\"}],\"heatmapgl\":[{\"colorbar\":{\"outlinewidth\":0,\"ticks\":\"\"},\"colorscale\":[[0.0,\"#0d0887\"],[0.1111111111111111,\"#46039f\"],[0.2222222222222222,\"#7201a8\"],[0.3333333333333333,\"#9c179e\"],[0.4444444444444444,\"#bd3786\"],[0.5555555555555556,\"#d8576b\"],[0.6666666666666666,\"#ed7953\"],[0.7777777777777778,\"#fb9f3a\"],[0.8888888888888888,\"#fdca26\"],[1.0,\"#f0f921\"]],\"type\":\"heatmapgl\"}],\"histogram\":[{\"marker\":{\"pattern\":{\"fillmode\":\"overlay\",\"size\":10,\"solidity\":0.2}},\"type\":\"histogram\"}],\"histogram2d\":[{\"colorbar\":{\"outlinewidth\":0,\"ticks\":\"\"},\"colorscale\":[[0.0,\"#0d0887\"],[0.1111111111111111,\"#46039f\"],[0.2222222222222222,\"#7201a8\"],[0.3333333333333333,\"#9c179e\"],[0.4444444444444444,\"#bd3786\"],[0.5555555555555556,\"#d8576b\"],[0.6666666666666666,\"#ed7953\"],[0.7777777777777778,\"#fb9f3a\"],[0.8888888888888888,\"#fdca26\"],[1.0,\"#f0f921\"]],\"type\":\"histogram2d\"}],\"histogram2dcontour\":[{\"colorbar\":{\"outlinewidth\":0,\"ticks\":\"\"},\"colorscale\":[[0.0,\"#0d0887\"],[0.1111111111111111,\"#46039f\"],[0.2222222222222222,\"#7201a8\"],[0.3333333333333333,\"#9c179e\"],[0.4444444444444444,\"#bd3786\"],[0.5555555555555556,\"#d8576b\"],[0.6666666666666666,\"#ed7953\"],[0.7777777777777778,\"#fb9f3a\"],[0.8888888888888888,\"#fdca26\"],[1.0,\"#f0f921\"]],\"type\":\"histogram2dcontour\"}],\"mesh3d\":[{\"colorbar\":{\"outlinewidth\":0,\"ticks\":\"\"},\"type\":\"mesh3d\"}],\"parcoords\":[{\"line\":{\"colorbar\":{\"outlinewidth\":0,\"ticks\":\"\"}},\"type\":\"parcoords\"}],\"pie\":[{\"automargin\":true,\"type\":\"pie\"}],\"scatter\":[{\"marker\":{\"colorbar\":{\"outlinewidth\":0,\"ticks\":\"\"}},\"type\":\"scatter\"}],\"scatter3d\":[{\"line\":{\"colorbar\":{\"outlinewidth\":0,\"ticks\":\"\"}},\"marker\":{\"colorbar\":{\"outlinewidth\":0,\"ticks\":\"\"}},\"type\":\"scatter3d\"}],\"scattercarpet\":[{\"marker\":{\"colorbar\":{\"outlinewidth\":0,\"ticks\":\"\"}},\"type\":\"scattercarpet\"}],\"scattergeo\":[{\"marker\":{\"colorbar\":{\"outlinewidth\":0,\"ticks\":\"\"}},\"type\":\"scattergeo\"}],\"scattergl\":[{\"marker\":{\"colorbar\":{\"outlinewidth\":0,\"ticks\":\"\"}},\"type\":\"scattergl\"}],\"scattermapbox\":[{\"marker\":{\"colorbar\":{\"outlinewidth\":0,\"ticks\":\"\"}},\"type\":\"scattermapbox\"}],\"scatterpolar\":[{\"marker\":{\"colorbar\":{\"outlinewidth\":0,\"ticks\":\"\"}},\"type\":\"scatterpolar\"}],\"scatterpolargl\":[{\"marker\":{\"colorbar\":{\"outlinewidth\":0,\"ticks\":\"\"}},\"type\":\"scatterpolargl\"}],\"scatterternary\":[{\"marker\":{\"colorbar\":{\"outlinewidth\":0,\"ticks\":\"\"}},\"type\":\"scatterternary\"}],\"surface\":[{\"colorbar\":{\"outlinewidth\":0,\"ticks\":\"\"},\"colorscale\":[[0.0,\"#0d0887\"],[0.1111111111111111,\"#46039f\"],[0.2222222222222222,\"#7201a8\"],[0.3333333333333333,\"#9c179e\"],[0.4444444444444444,\"#bd3786\"],[0.5555555555555556,\"#d8576b\"],[0.6666666666666666,\"#ed7953\"],[0.7777777777777778,\"#fb9f3a\"],[0.8888888888888888,\"#fdca26\"],[1.0,\"#f0f921\"]],\"type\":\"surface\"}],\"table\":[{\"cells\":{\"fill\":{\"color\":\"#EBF0F8\"},\"line\":{\"color\":\"white\"}},\"header\":{\"fill\":{\"color\":\"#C8D4E3\"},\"line\":{\"color\":\"white\"}},\"type\":\"table\"}]},\"layout\":{\"annotationdefaults\":{\"arrowcolor\":\"#2a3f5f\",\"arrowhead\":0,\"arrowwidth\":1},\"autotypenumbers\":\"strict\",\"coloraxis\":{\"colorbar\":{\"outlinewidth\":0,\"ticks\":\"\"}},\"colorscale\":{\"diverging\":[[0,\"#8e0152\"],[0.1,\"#c51b7d\"],[0.2,\"#de77ae\"],[0.3,\"#f1b6da\"],[0.4,\"#fde0ef\"],[0.5,\"#f7f7f7\"],[0.6,\"#e6f5d0\"],[0.7,\"#b8e186\"],[0.8,\"#7fbc41\"],[0.9,\"#4d9221\"],[1,\"#276419\"]],\"sequential\":[[0.0,\"#0d0887\"],[0.1111111111111111,\"#46039f\"],[0.2222222222222222,\"#7201a8\"],[0.3333333333333333,\"#9c179e\"],[0.4444444444444444,\"#bd3786\"],[0.5555555555555556,\"#d8576b\"],[0.6666666666666666,\"#ed7953\"],[0.7777777777777778,\"#fb9f3a\"],[0.8888888888888888,\"#fdca26\"],[1.0,\"#f0f921\"]],\"sequentialminus\":[[0.0,\"#0d0887\"],[0.1111111111111111,\"#46039f\"],[0.2222222222222222,\"#7201a8\"],[0.3333333333333333,\"#9c179e\"],[0.4444444444444444,\"#bd3786\"],[0.5555555555555556,\"#d8576b\"],[0.6666666666666666,\"#ed7953\"],[0.7777777777777778,\"#fb9f3a\"],[0.8888888888888888,\"#fdca26\"],[1.0,\"#f0f921\"]]},\"colorway\":[\"#636efa\",\"#EF553B\",\"#00cc96\",\"#ab63fa\",\"#FFA15A\",\"#19d3f3\",\"#FF6692\",\"#B6E880\",\"#FF97FF\",\"#FECB52\"],\"font\":{\"color\":\"#2a3f5f\"},\"geo\":{\"bgcolor\":\"white\",\"lakecolor\":\"white\",\"landcolor\":\"#E5ECF6\",\"showlakes\":true,\"showland\":true,\"subunitcolor\":\"white\"},\"hoverlabel\":{\"align\":\"left\"},\"hovermode\":\"closest\",\"mapbox\":{\"style\":\"light\"},\"paper_bgcolor\":\"white\",\"plot_bgcolor\":\"#E5ECF6\",\"polar\":{\"angularaxis\":{\"gridcolor\":\"white\",\"linecolor\":\"white\",\"ticks\":\"\"},\"bgcolor\":\"#E5ECF6\",\"radialaxis\":{\"gridcolor\":\"white\",\"linecolor\":\"white\",\"ticks\":\"\"}},\"scene\":{\"xaxis\":{\"backgroundcolor\":\"#E5ECF6\",\"gridcolor\":\"white\",\"gridwidth\":2,\"linecolor\":\"white\",\"showbackground\":true,\"ticks\":\"\",\"zerolinecolor\":\"white\"},\"yaxis\":{\"backgroundcolor\":\"#E5ECF6\",\"gridcolor\":\"white\",\"gridwidth\":2,\"linecolor\":\"white\",\"showbackground\":true,\"ticks\":\"\",\"zerolinecolor\":\"white\"},\"zaxis\":{\"backgroundcolor\":\"#E5ECF6\",\"gridcolor\":\"white\",\"gridwidth\":2,\"linecolor\":\"white\",\"showbackground\":true,\"ticks\":\"\",\"zerolinecolor\":\"white\"}},\"shapedefaults\":{\"line\":{\"color\":\"#2a3f5f\"}},\"ternary\":{\"aaxis\":{\"gridcolor\":\"white\",\"linecolor\":\"white\",\"ticks\":\"\"},\"baxis\":{\"gridcolor\":\"white\",\"linecolor\":\"white\",\"ticks\":\"\"},\"bgcolor\":\"#E5ECF6\",\"caxis\":{\"gridcolor\":\"white\",\"linecolor\":\"white\",\"ticks\":\"\"}},\"title\":{\"x\":0.05},\"xaxis\":{\"automargin\":true,\"gridcolor\":\"white\",\"linecolor\":\"white\",\"ticks\":\"\",\"title\":{\"standoff\":15},\"zerolinecolor\":\"white\",\"zerolinewidth\":2},\"yaxis\":{\"automargin\":true,\"gridcolor\":\"white\",\"linecolor\":\"white\",\"ticks\":\"\",\"title\":{\"standoff\":15},\"zerolinecolor\":\"white\",\"zerolinewidth\":2}}},\"uniformtext\":{\"minsize\":8,\"mode\":\"hide\"}},                        {\"responsive\": true}                    ).then(function(){\n",
       "                            \n",
       "var gd = document.getElementById('bc66b511-23db-4e7c-8963-9a3c85100e62');\n",
       "var x = new MutationObserver(function (mutations, observer) {{\n",
       "        var display = window.getComputedStyle(gd).display;\n",
       "        if (!display || display === 'none') {{\n",
       "            console.log([gd, 'removed!']);\n",
       "            Plotly.purge(gd);\n",
       "            observer.disconnect();\n",
       "        }}\n",
       "}});\n",
       "\n",
       "// Listen for the removal of the full notebook cells\n",
       "var notebookContainer = gd.closest('#notebook-container');\n",
       "if (notebookContainer) {{\n",
       "    x.observe(notebookContainer, {childList: true});\n",
       "}}\n",
       "\n",
       "// Listen for the clearing of the current output cell\n",
       "var outputEl = gd.closest('.output');\n",
       "if (outputEl) {{\n",
       "    x.observe(outputEl, {childList: true});\n",
       "}}\n",
       "\n",
       "                        })                };                });            </script>        </div>"
      ]
     },
     "metadata": {},
     "output_type": "display_data"
    }
   ],
   "source": [
    "fig = go.Figure()\n",
    "fig.add_trace(go.Bar(x=list(data_freq.index), y=data_freq.freq.values))\n",
    "fig.update_traces(texttemplate='%{text:.2s}', textposition='outside')\n",
    "fig.update_layout(uniformtext_minsize=8, uniformtext_mode='hide')\n",
    "fig.show()"
   ]
  },
  {
   "cell_type": "code",
   "execution_count": 49,
   "id": "b1a9a7bc-0c54-437a-90a6-69588e7eb334",
   "metadata": {},
   "outputs": [],
   "source": [
    "cor = df[df.columns[4:]].corr()"
   ]
  },
  {
   "cell_type": "code",
   "execution_count": 58,
   "id": "148d2648-3526-4813-9f17-cdc23327d3ed",
   "metadata": {},
   "outputs": [
    {
     "data": {
      "application/vnd.plotly.v1+json": {
       "config": {
        "plotlyServerURL": "https://plot.ly"
       },
       "data": [
        {
         "hoverongaps": false,
         "type": "heatmap",
         "x": [
          "related",
          "request",
          "offer",
          "aid_related",
          "medical_help",
          "medical_products",
          "search_and_rescue",
          "security",
          "military",
          "child_alone",
          "water",
          "food",
          "shelter",
          "clothing",
          "money",
          "missing_people",
          "refugees",
          "death",
          "other_aid",
          "infrastructure_related",
          "transport",
          "buildings",
          "electricity",
          "tools",
          "hospitals",
          "shops",
          "aid_centers",
          "other_infrastructure",
          "weather_related",
          "floods",
          "storm",
          "fire",
          "earthquake",
          "cold",
          "other_weather",
          "direct_report"
         ],
         "y": [
          "related",
          "request",
          "offer",
          "aid_related",
          "medical_help",
          "medical_products",
          "search_and_rescue",
          "security",
          "military",
          "child_alone",
          "water",
          "food",
          "shelter",
          "clothing",
          "money",
          "missing_people",
          "refugees",
          "death",
          "other_aid",
          "infrastructure_related",
          "transport",
          "buildings",
          "electricity",
          "tools",
          "hospitals",
          "shops",
          "aid_centers",
          "other_infrastructure",
          "weather_related",
          "floods",
          "storm",
          "fire",
          "earthquake",
          "cold",
          "other_weather",
          "direct_report"
         ],
         "z": [
          [
           1,
           0.23532829012810386,
           0.03500161651372368,
           0.43656873422912845,
           0.15244303523568536,
           0.11906773097027368,
           0.08735324050414724,
           0.0701091891150912,
           0.09545989617237804,
           null,
           0.1353746702826225,
           0.18386764827487026,
           0.1614713564429605,
           0.06500993949966126,
           0.0795990813635332,
           0.05567415887449833,
           0.09637422531630245,
           0.11332743941454367,
           0.2017167931050123,
           0.136708789670157,
           0.1136745079541077,
           0.1200660692382949,
           0.07474245051386054,
           0.04048987024485969,
           0.054147352363055734,
           0.03514904812892739,
           0.05660843400756749,
           0.11107512383222955,
           0.3220828406814262,
           0.15524307033641854,
           0.1663514697977872,
           0.05405055853088734,
           0.16653879289956283,
           0.07445618992431076,
           0.12199643124045056,
           0.25412532931971243
          ],
          [
           0.23532829012810386,
           1,
           -0.03066847722673059,
           0.44770717212934147,
           0.12850474425149291,
           0.10653447664016864,
           0.07126343212644279,
           0.05682782822966436,
           -0.04438531729170833,
           null,
           0.2395131617036997,
           0.3509587586320222,
           0.2800092663873387,
           0.08174053398223005,
           0.06264984460527233,
           0.027569405396217165,
           0.02382506369615403,
           0.008522536097007637,
           0.24395865208603376,
           0.021590939089028933,
           0.02535519184349257,
           0.06259475612233979,
           0.010556354706917294,
           0.01934307452562356,
           0.016301205131447866,
           0.0322581397078201,
           0.02270267068873771,
           -0.002848921981848701,
           -0.015204749044151642,
           -0.005863842372277167,
           -0.04614246352703627,
           -0.009045052622715509,
           0.006844097392003194,
           -0.0018734129195190033,
           -0.015551981782880198,
           0.6478322395807921
          ],
          [
           0.03500161651372368,
           -0.03066847722673059,
           1,
           0.06750411930062056,
           0.005290069041016758,
           0.03909715017247526,
           -0.000995622775575049,
           -0.00913677683456691,
           0.0003024433183320406,
           null,
           0.005567434055111971,
           0.0642895032626647,
           0.004935958094085782,
           0.06046175668829382,
           0.05392610827646741,
           -0.007255573363620902,
           -0.0094021780496866,
           -0.014769070021103907,
           0.03247853814622787,
           -0.013213711959774846,
           -0.003966395861813173,
           -0.015647262418526996,
           -0.0017063589124210413,
           -0.005276724965119042,
           -0.0015652456448230823,
           -0.004580697805165912,
           -0.0021194450728836555,
           -0.014475543521990531,
           -0.01412376472653841,
           -0.0016496348844279867,
           -0.013878033034883238,
           -0.001543009544513621,
           -0.011961053621690289,
           -0.009703287113673461,
           -0.005720487724500701,
           0.018568119755714235
          ],
          [
           0.43656873422912845,
           0.44770717212934147,
           0.06750411930062056,
           1,
           0.34918450013344066,
           0.27273536017305117,
           0.20009046378090128,
           0.16059141119871276,
           0.21865948861623558,
           null,
           0.3100878731539541,
           0.42116540617489373,
           0.36986468288454216,
           0.14891112075273355,
           0.1823288639853825,
           0.12752667451737232,
           0.22075384185831604,
           0.2595867054351759,
           0.46205047977426755,
           0.19759358654706735,
           0.1549203850172461,
           0.1496387907638569,
           0.06980181448523193,
           0.08576500718302159,
           0.10829459711423021,
           0.06445332939431805,
           0.11603573469055058,
           0.13122779231628548,
           0.20833152329835608,
           0.16713017458826518,
           0.059312410274189584,
           0.05325234841655466,
           0.08024181995688222,
           0.08087525717519348,
           0.12563427175510386,
           0.3744426354322033
          ],
          [
           0.15244303523568536,
           0.12850474425149291,
           0.005290069041016758,
           0.34918450013344066,
           1,
           0.3412404549261667,
           0.10348983611007274,
           0.06099475280525548,
           0.005944424273998596,
           null,
           0.13642547921549208,
           0.08841140826823887,
           0.08204803277559605,
           0.03956546154201889,
           0.02151024282619179,
           0.08518752262642214,
           0.08095344460961108,
           0.12004975645225636,
           0.08231775163562768,
           0.10928039258289729,
           0.23383425862582974,
           0.04018360315783992,
           0.020425753856268103,
           0.053249091448034004,
           0.1642773657471259,
           0.03641708717167095,
           0.06057660234136399,
           0.03462469838495412,
           0.09635935262896864,
           0.18568565240942544,
           0.0068063883893594215,
           0.026697576759298805,
           0.015801475552611424,
           0.030832882030167832,
           0.038813669086987815,
           0.09892504990809989
          ],
          [
           0.11906773097027368,
           0.10653447664016864,
           0.03909715017247526,
           0.27273536017305117,
           0.3412404549261667,
           1,
           0.08075650805475282,
           0.05973194244421871,
           -0.005024808984931473,
           null,
           0.24816531811050074,
           0.1909229649660546,
           0.16421308083378983,
           0.17788510618285505,
           0.04394822354214326,
           0.10044256487781632,
           0.08178716032288606,
           0.059513110728793304,
           0.10713771020725735,
           0.09749005934458843,
           0.12171684541187457,
           0.031859580350101654,
           0.04730713882743603,
           0.07661782659013325,
           0.09949294392118568,
           0.043984540655486425,
           0.08019272029703406,
           0.04376405741353771,
           0.0459751295652626,
           0.09146690389504776,
           0.0001556502135984962,
           0.03365829799214728,
           0.004207072968136138,
           0.04027789559585079,
           0.03214748848557415,
           0.062495576629557764
          ],
          [
           0.08735324050414724,
           0.07126343212644279,
           -0.000995622775575049,
           0.20009046378090128,
           0.10348983611007274,
           0.08075650805475282,
           1,
           0.10162026551465372,
           0.04605366100885163,
           null,
           0.023567327687120523,
           0.010383957580760883,
           0.03683541344905756,
           0.012788274246446405,
           0.014450551188795,
           0.2274130938348823,
           0.12796730497047268,
           0.11374110406462684,
           0.08316318417243809,
           0.09524439098185963,
           0.17995816636200115,
           0.09330316803990425,
           0.056434414421726586,
           0.09176221834058088,
           0.0747443293696087,
           0.023052183091400495,
           0.044135734279553133,
           0.061580954996779416,
           0.14346720122387968,
           0.143455574705603,
           0.03869799293676563,
           0.05237245191522588,
           0.06572813098735839,
           0.06509489233785308,
           0.04486905173424359,
           0.056926395900281215
          ],
          [
           0.0701091891150912,
           0.05682782822966436,
           -0.00913677683456691,
           0.16059141119871276,
           0.06099475280525548,
           0.05973194244421871,
           0.10162026551465372,
           1,
           0.1604863663697356,
           null,
           -0.004798902000430352,
           0.002133888237363504,
           0.020552643234845028,
           0.04814969197947022,
           -0.0016370973016194698,
           0.14773569635942174,
           0.10747089652940367,
           0.09841072408597476,
           0.06120666038010708,
           0.06563311737173044,
           0.14737351656479322,
           0.04311676527538229,
           0.03334611168283499,
           0.06710353941814158,
           0.04144590060614301,
           0.04613134169712981,
           0.03311870280635103,
           0.03267814987737924,
           0.07993266922360363,
           0.10680216479072782,
           0.0029647620256691683,
           0.05827190582725751,
           0.01963706993789685,
           0.03769669150328419,
           0.01322529813888124,
           0.04846365207926376
          ],
          [
           0.09545989617237804,
           -0.04438531729170833,
           0.0003024433183320406,
           0.21865948861623558,
           0.005944424273998596,
           -0.005024808984931473,
           0.04605366100885163,
           0.1604863663697356,
           1,
           null,
           -0.01745956612789049,
           -0.028648630561680075,
           -0.023454066538879707,
           -0.004029046223377784,
           -0.0011713951718237187,
           0.024580397460610047,
           0.05749833077370458,
           0.0982706144787539,
           -0.0013613155691738958,
           0.05475478892174112,
           0.019980597977165594,
           0.006030817828911124,
           0.012850180577826706,
           0.035255623143088916,
           0.030490656647474662,
           0.02240460290926959,
           0.03146984217581942,
           0.033686854659672444,
           -0.015583995763025597,
           -0.0006359515719977062,
           -0.031893422153521624,
           0.0430680194428593,
           -0.01948414284193056,
           0.011575722764972802,
           0.006573751636241952,
           -0.03830851028340316
          ],
          [
           null,
           null,
           null,
           null,
           null,
           null,
           null,
           null,
           null,
           null,
           null,
           null,
           null,
           null,
           null,
           null,
           null,
           null,
           null,
           null,
           null,
           null,
           null,
           null,
           null,
           null,
           null,
           null,
           null,
           null,
           null,
           null,
           null,
           null,
           null,
           null
          ],
          [
           0.1353746702826225,
           0.2395131617036997,
           0.005567434055111971,
           0.3100878731539541,
           0.13642547921549208,
           0.24816531811050074,
           0.023567327687120523,
           -0.004798902000430352,
           -0.01745956612789049,
           null,
           1,
           0.3515032336281693,
           0.2076194399752793,
           0.09990206883991257,
           0.026433604175335575,
           0.004262535131549378,
           0.0330277274228849,
           0.0071811763255805365,
           0.045589475078909404,
           0.07914590306122223,
           0.023231842684551494,
           0.031741177433924746,
           0.06283370037773754,
           0.033846685653797844,
           0.03611910761129954,
           0.04700055768735886,
           0.059649291992637236,
           0.055954097257305095,
           -0.00014723550926872068,
           0.021091749318873934,
           -0.004487427805516479,
           0.01359229036909813,
           -0.018047710921118926,
           0.0068127831113758185,
           0.04834783791497906,
           0.1932300608211891
          ],
          [
           0.18386764827487026,
           0.3509587586320222,
           0.0642895032626647,
           0.42116540617489373,
           0.08841140826823887,
           0.1909229649660546,
           0.010383957580760883,
           0.002133888237363504,
           -0.028648630561680075,
           null,
           0.3515032336281693,
           1,
           0.22841587110765182,
           0.19767290277604804,
           0.05364032830760871,
           -0.013030772880345664,
           0.02429309949047595,
           0.00016511782056726393,
           0.0363623295251728,
           0.03995398743458657,
           0.014755573166134838,
           0.014728265546319484,
           0.0002550870141435563,
           0.0268568104614872,
           0.001593339574937971,
           0.04229898334963912,
           0.03864882005830579,
           0.02559596985496011,
           -0.015497734100616055,
           0.012655945407983819,
           -0.0011200484931248582,
           0.007595562849868164,
           -0.05664242247825841,
           0.0023611676357230636,
           0.04514702386012417,
           0.2980588982858609
          ],
          [
           0.1614713564429605,
           0.2800092663873387,
           0.004935958094085782,
           0.36986468288454216,
           0.08204803277559605,
           0.16421308083378983,
           0.03683541344905756,
           0.020552643234845028,
           -0.023454066538879707,
           null,
           0.2076194399752793,
           0.22841587110765182,
           1,
           0.16544383127606793,
           0.03810193537657708,
           0.004481164266480309,
           0.1879794401467546,
           0.020066099010468946,
           0.0667347582856509,
           0.14770286141406513,
           0.02603283161872466,
           0.2168447139650747,
           0.02353420934426655,
           0.046594505745797064,
           0.027244674171286076,
           0.048521487709444394,
           0.1564055992098922,
           0.0971374555894032,
           0.09106347245473474,
           0.06795992684110766,
           0.05419487057203569,
           0.0169896744198648,
           0.021190697882125003,
           0.07168286456272063,
           0.05315449945499314,
           0.23400159331684345
          ],
          [
           0.06500993949966126,
           0.08174053398223005,
           0.06046175668829382,
           0.14891112075273355,
           0.03956546154201889,
           0.17788510618285505,
           0.012788274246446405,
           0.04814969197947022,
           -0.004029046223377784,
           null,
           0.09990206883991257,
           0.19767290277604804,
           0.16544383127606793,
           1,
           0.05280045450665519,
           0.006888790152977763,
           0.016207723773131878,
           -0.006704367540156507,
           0.04715047138517244,
           0.02954803129584866,
           0.02120536582418282,
           0.01449908702078454,
           0.01908553872101546,
           0.029987153444866035,
           0.04668256258443343,
           0.014374574704630463,
           0.03495783645740881,
           0.004777687635625374,
           0.011631197608393448,
           0.009630521509211686,
           -0.0031050702062713435,
           0.007879762652303321,
           -0.0031843975043929318,
           0.04124151594875744,
           0.0023313110294653563,
           0.06667091247008855
          ],
          [
           0.0795990813635332,
           0.06264984460527233,
           0.05392610827646741,
           0.1823288639853825,
           0.02151024282619179,
           0.04394822354214326,
           0.014450551188795,
           -0.0016370973016194698,
           -0.0011713951718237187,
           null,
           0.026433604175335575,
           0.05364032830760871,
           0.03810193537657708,
           0.05280045450665519,
           1,
           0.002655089554786429,
           0.01670885148121696,
           -0.0019063824266024132,
           0.08917280435631242,
           0.06259080904077008,
           0.027065528360251934,
           0.036120654858375005,
           0.021045598429624564,
           0.02402129217933365,
           0.02823976299097067,
           0.0272488913370232,
           0.03505072728833688,
           0.052707031820834686,
           0.0690344812223938,
           0.04557310651577549,
           0.023226989799504036,
           0.0036987419000401893,
           0.062392132827680594,
           0.005031061655138951,
           0.032250255108663715,
           0.016673808047652512
          ],
          [
           0.05567415887449833,
           0.027569405396217165,
           -0.007255573363620902,
           0.12752667451737232,
           0.08518752262642214,
           0.10044256487781632,
           0.2274130938348823,
           0.14773569635942174,
           0.024580397460610047,
           null,
           0.004262535131549378,
           -0.013030772880345664,
           0.004481164266480309,
           0.006888790152977763,
           0.002655089554786429,
           1,
           0.13593492172707475,
           0.19343036775109906,
           0.0666044495430311,
           0.04158799260148755,
           0.2030576417529334,
           0.03557153082442899,
           0.022652280816483118,
           0.03787457046742252,
           0.020062596338593353,
           0.02464492463326461,
           0.03153637914251508,
           0.02957577484859092,
           0.1231691371127412,
           0.17302533690472874,
           0.030953203646879965,
           0.00969022826166712,
           0.053057960912224075,
           0.027957183985396036,
           0.031091236591541987,
           0.008217724350919744
          ],
          [
           0.09637422531630245,
           0.02382506369615403,
           -0.0094021780496866,
           0.22075384185831604,
           0.08095344460961108,
           0.08178716032288606,
           0.12796730497047268,
           0.10747089652940367,
           0.05749833077370458,
           null,
           0.0330277274228849,
           0.02429309949047595,
           0.1879794401467546,
           0.016207723773131878,
           0.01670885148121696,
           0.13593492172707475,
           1,
           0.10072584283841421,
           0.07520414288146818,
           0.12051194242231916,
           0.14179873462216008,
           0.08918718634546391,
           0.016754107232772437,
           0.02374296742524546,
           0.023703656705167914,
           0.04398642396130254,
           0.12521908182669203,
           0.08031478910758788,
           0.10508245284817472,
           0.14739885186859583,
           0.03732997088845899,
           0.03204425618545202,
           0.017495806996034705,
           0.032098501930473,
           0.04569034173121861,
           0.005474884387677931
          ],
          [
           0.11332743941454367,
           0.008522536097007637,
           -0.014769070021103907,
           0.2595867054351759,
           0.12004975645225636,
           0.059513110728793304,
           0.11374110406462684,
           0.09841072408597476,
           0.0982706144787539,
           null,
           0.0071811763255805365,
           0.00016511782056726393,
           0.020066099010468946,
           -0.006704367540156507,
           -0.0019063824266024132,
           0.19343036775109906,
           0.10072584283841421,
           1,
           0.022526133111545422,
           0.07872356844021375,
           0.13463213162864238,
           0.11980611939980913,
           0.013756610346875576,
           0.022941800260213172,
           0.02845498085796072,
           0.036624848217081625,
           0.035398446573426855,
           0.06734101848936674,
           0.16751983549549349,
           0.15864618350436888,
           0.07934251642563542,
           0.035674342844929596,
           0.09356437989293319,
           0.05301149473942661,
           0.08460113738229162,
           0.010714746965966563
          ],
          [
           0.2017167931050123,
           0.24395865208603376,
           0.03247853814622787,
           0.46205047977426755,
           0.08231775163562768,
           0.10713771020725735,
           0.08316318417243809,
           0.06120666038010708,
           -0.0013613155691738958,
           null,
           0.045589475078909404,
           0.0363623295251728,
           0.0667347582856509,
           0.04715047138517244,
           0.08917280435631242,
           0.0666044495430311,
           0.07520414288146818,
           0.022526133111545422,
           1,
           0.13808164149692684,
           0.11744254865659005,
           0.08232820084269953,
           0.0884837295866437,
           0.0582648557447731,
           0.028142628276851944,
           0.025435277821012656,
           0.0662461484810312,
           0.13582996740751452,
           0.16953164008763252,
           0.10639245460849826,
           0.058157004185373666,
           0.03490073638101855,
           0.10435617050917204,
           0.0330956633043333,
           0.09664936720053076,
           0.1926527562203034
          ],
          [
           0.136708789670157,
           0.021590939089028933,
           -0.013213711959774846,
           0.19759358654706735,
           0.10928039258289729,
           0.09749005934458843,
           0.09524439098185963,
           0.06563311737173044,
           0.05475478892174112,
           null,
           0.07914590306122223,
           0.03995398743458657,
           0.14770286141406513,
           0.02954803129584866,
           0.06259080904077008,
           0.04158799260148755,
           0.12051194242231916,
           0.07872356844021375,
           0.13808164149692684,
           1,
           0.12474397963969144,
           0.247085041798358,
           0.10103035702967866,
           0.061077153647464216,
           0.39607806121098366,
           0.2571089116781218,
           0.41408042704605164,
           0.8124943838668013,
           0.23326680075909528,
           0.17200355200547351,
           0.11895147031315295,
           0.07595892336142245,
           0.09370469483731515,
           0.07750842417198285,
           0.15779349955432745,
           0.03111526611627017
          ],
          [
           0.1136745079541077,
           0.02535519184349257,
           -0.003966395861813173,
           0.1549203850172461,
           0.23383425862582974,
           0.12171684541187457,
           0.17995816636200115,
           0.14737351656479322,
           0.019980597977165594,
           null,
           0.023231842684551494,
           0.014755573166134838,
           0.02603283161872466,
           0.02120536582418282,
           0.027065528360251934,
           0.2030576417529334,
           0.14179873462216008,
           0.13463213162864238,
           0.11744254865659005,
           0.12474397963969144,
           1,
           0.12498279873075456,
           0.12064903176605814,
           0.03921428528301583,
           0.03177099169224216,
           0.04453879700323896,
           0.04360656849878404,
           0.13361470559563876,
           0.25654853897198404,
           0.3966092947193589,
           0.09437662974727878,
           0.03897674713470662,
           0.03405226654018654,
           0.07081523872396975,
           0.0595418063786648,
           0.03957866576709371
          ],
          [
           0.1200660692382949,
           0.06259475612233979,
           -0.015647262418526996,
           0.1496387907638569,
           0.04018360315783992,
           0.031859580350101654,
           0.09330316803990425,
           0.04311676527538229,
           0.006030817828911124,
           null,
           0.031741177433924746,
           0.014728265546319484,
           0.2168447139650747,
           0.01449908702078454,
           0.036120654858375005,
           0.03557153082442899,
           0.08918718634546391,
           0.11980611939980913,
           0.08232820084269953,
           0.247085041798358,
           0.12498279873075456,
           1,
           0.09064740187732542,
           0.024360144106590962,
           0.0631070590432254,
           0.0896775769326861,
           0.08080270629701969,
           0.24929724313346668,
           0.21794404588145877,
           0.16292396307363285,
           0.11288760927506329,
           0.07171353764267796,
           0.11799486023953464,
           0.05424736038654271,
           0.09951878594288933,
           0.07516741846635697
          ],
          [
           0.07474245051386054,
           0.010556354706917294,
           -0.0017063589124210413,
           0.06980181448523193,
           0.020425753856268103,
           0.04730713882743603,
           0.056434414421726586,
           0.03334611168283499,
           0.012850180577826706,
           null,
           0.06283370037773754,
           0.0002550870141435563,
           0.02353420934426655,
           0.01908553872101546,
           0.021045598429624564,
           0.022652280816483118,
           0.016754107232772437,
           0.013756610346875576,
           0.0884837295866437,
           0.10103035702967866,
           0.12064903176605814,
           0.09064740187732542,
           1,
           0.04090124545139182,
           0.02935487375821533,
           0.03422300698576427,
           0.03678950362076103,
           0.10747874251420554,
           0.13266047085936425,
           0.05603029639105679,
           0.12725830812694228,
           0.08704965231186083,
           0.015778896756724586,
           0.08288730618839249,
           0.05807671595074275,
           0.049525407181026826
          ],
          [
           0.04048987024485969,
           0.01934307452562356,
           -0.005276724965119042,
           0.08576500718302159,
           0.053249091448034004,
           0.07661782659013325,
           0.09176221834058088,
           0.06710353941814158,
           0.035255623143088916,
           null,
           0.033846685653797844,
           0.0268568104614872,
           0.046594505745797064,
           0.029987153444866035,
           0.02402129217933365,
           0.03787457046742252,
           0.02374296742524546,
           0.022941800260213172,
           0.0582648557447731,
           0.061077153647464216,
           0.03921428528301583,
           0.024360144106590962,
           0.04090124545139182,
           1,
           0.03938001075646654,
           0.031092457431049145,
           0.023331148062539907,
           0.050396966422667,
           0.0731031738508543,
           0.03201001974461034,
           0.0188234988306208,
           0.06329109863675145,
           0.03899907649992117,
           0.09698916835209523,
           0.038887647835169285,
           0.016382143223611728
          ],
          [
           0.054147352363055734,
           0.016301205131447866,
           -0.0015652456448230823,
           0.10829459711423021,
           0.1642773657471259,
           0.09949294392118568,
           0.0747443293696087,
           0.04144590060614301,
           0.030490656647474662,
           null,
           0.03611910761129954,
           0.001593339574937971,
           0.027244674171286076,
           0.04668256258443343,
           0.02823976299097067,
           0.020062596338593353,
           0.023703656705167914,
           0.02845498085796072,
           0.028142628276851944,
           0.39607806121098366,
           0.03177099169224216,
           0.0631070590432254,
           0.02935487375821533,
           0.03938001075646654,
           1,
           0.04213042650812572,
           0.13565902696346208,
           0.046070534268250835,
           0.06600217515003347,
           0.023767691715940266,
           0.010866179720931608,
           0.03562221729599448,
           0.045010932194433154,
           0.05842708973927346,
           0.036649271938890206,
           0.020680299577627934
          ],
          [
           0.03514904812892739,
           0.0322581397078201,
           -0.004580697805165912,
           0.06445332939431805,
           0.03641708717167095,
           0.043984540655486425,
           0.023052183091400495,
           0.04613134169712981,
           0.02240460290926959,
           null,
           0.04700055768735886,
           0.04229898334963912,
           0.048521487709444394,
           0.014374574704630463,
           0.0272488913370232,
           0.02464492463326461,
           0.04398642396130254,
           0.036624848217081625,
           0.025435277821012656,
           0.2571089116781218,
           0.04453879700323896,
           0.0896775769326861,
           0.03422300698576427,
           0.031092457431049145,
           0.04213042650812572,
           1,
           0.02924381720753145,
           0.04890140140933369,
           0.08013478538206595,
           0.04342171386986546,
           0.03261112120688693,
           0.04222932962298583,
           0.05388157611896005,
           0.05851382615225262,
           0.0271123677387672,
           0.0353709458042805
          ],
          [
           0.05660843400756749,
           0.02270267068873771,
           -0.0021194450728836555,
           0.11603573469055058,
           0.06057660234136399,
           0.08019272029703406,
           0.044135734279553133,
           0.03311870280635103,
           0.03146984217581942,
           null,
           0.059649291992637236,
           0.03864882005830579,
           0.1564055992098922,
           0.03495783645740881,
           0.03505072728833688,
           0.03153637914251508,
           0.12521908182669203,
           0.035398446573426855,
           0.0662461484810312,
           0.41408042704605164,
           0.04360656849878404,
           0.08080270629701969,
           0.03678950362076103,
           0.023331148062539907,
           0.13565902696346208,
           0.02924381720753145,
           1,
           0.08526915770890901,
           0.07009983214506559,
           0.03929354483178071,
           0.03903736723873995,
           0.053706748380796344,
           0.041357385863677265,
           0.03453235536047972,
           0.04402175613466063,
           0.021553894412690074
          ],
          [
           0.11107512383222955,
           -0.002848921981848701,
           -0.014475543521990531,
           0.13122779231628548,
           0.03462469838495412,
           0.04376405741353771,
           0.061580954996779416,
           0.03267814987737924,
           0.033686854659672444,
           null,
           0.055954097257305095,
           0.02559596985496011,
           0.0971374555894032,
           0.004777687635625374,
           0.052707031820834686,
           0.02957577484859092,
           0.08031478910758788,
           0.06734101848936674,
           0.13582996740751452,
           0.8124943838668013,
           0.13361470559563876,
           0.24929724313346668,
           0.10747874251420554,
           0.050396966422667,
           0.046070534268250835,
           0.04890140140933369,
           0.08526915770890901,
           1,
           0.21278368427199226,
           0.181695120824727,
           0.1238086784404948,
           0.05344990402444649,
           0.06665710819989053,
           0.030058847430056112,
           0.16410709538763477,
           0.002773871592880792
          ],
          [
           0.3220828406814262,
           -0.015204749044151642,
           -0.01412376472653841,
           0.20833152329835608,
           0.09635935262896864,
           0.0459751295652626,
           0.14346720122387968,
           0.07993266922360363,
           -0.015583995763025597,
           null,
           -0.00014723550926872068,
           -0.015497734100616055,
           0.09106347245473474,
           0.011631197608393448,
           0.0690344812223938,
           0.1231691371127412,
           0.10508245284817472,
           0.16751983549549349,
           0.16953164008763252,
           0.23326680075909528,
           0.25654853897198404,
           0.21794404588145877,
           0.13266047085936425,
           0.0731031738508543,
           0.06600217515003347,
           0.08013478538206595,
           0.07009983214506559,
           0.21278368427199226,
           1,
           0.4819973333815979,
           0.5164865953300757,
           0.16781570361380738,
           0.5170681944658082,
           0.23117093033203867,
           0.37877345773014504,
           0.0784944311238955
          ],
          [
           0.15524307033641854,
           -0.005863842372277167,
           -0.0016496348844279867,
           0.16713017458826518,
           0.18568565240942544,
           0.09146690389504776,
           0.143455574705603,
           0.10680216479072782,
           -0.0006359515719977062,
           null,
           0.021091749318873934,
           0.012655945407983819,
           0.06795992684110766,
           0.009630521509211686,
           0.04557310651577549,
           0.17302533690472874,
           0.14739885186859583,
           0.15864618350436888,
           0.10639245460849826,
           0.17200355200547351,
           0.3966092947193589,
           0.16292396307363285,
           0.05603029639105679,
           0.03201001974461034,
           0.023767691715940266,
           0.04342171386986546,
           0.03929354483178071,
           0.181695120824727,
           0.4819973333815979,
           1,
           0.20579008763567996,
           0.04141063545021331,
           0.0033403484157255524,
           0.044728233347289266,
           0.10249785306326152,
           0.0023493277796730696
          ],
          [
           0.1663514697977872,
           -0.04614246352703627,
           -0.013878033034883238,
           0.059312410274189584,
           0.0068063883893594215,
           0.0001556502135984962,
           0.03869799293676563,
           0.0029647620256691683,
           -0.031893422153521624,
           null,
           -0.004487427805516479,
           -0.0011200484931248582,
           0.05419487057203569,
           -0.0031050702062713435,
           0.023226989799504036,
           0.030953203646879965,
           0.03732997088845899,
           0.07934251642563542,
           0.058157004185373666,
           0.11895147031315295,
           0.09437662974727878,
           0.11288760927506329,
           0.12725830812694228,
           0.0188234988306208,
           0.010866179720931608,
           0.03261112120688693,
           0.03903736723873995,
           0.1238086784404948,
           0.5164865953300757,
           0.20579008763567996,
           1,
           0.027525718529767762,
           -0.018517958454157768,
           0.08056872350598908,
           0.15547612693911805,
           0.0704786293133259
          ],
          [
           0.05405055853088734,
           -0.009045052622715509,
           -0.001543009544513621,
           0.05325234841655466,
           0.026697576759298805,
           0.03365829799214728,
           0.05237245191522588,
           0.05827190582725751,
           0.0430680194428593,
           null,
           0.01359229036909813,
           0.007595562849868164,
           0.0169896744198648,
           0.007879762652303321,
           0.0036987419000401893,
           0.00969022826166712,
           0.03204425618545202,
           0.035674342844929596,
           0.03490073638101855,
           0.07595892336142245,
           0.03897674713470662,
           0.07171353764267796,
           0.08704965231186083,
           0.06329109863675145,
           0.03562221729599448,
           0.04222932962298583,
           0.053706748380796344,
           0.05344990402444649,
           0.16781570361380738,
           0.04141063545021331,
           0.027525718529767762,
           1,
           0.017274276416746556,
           0.04019092124657575,
           0.06996379624335673,
           0.0040573847722308555
          ],
          [
           0.16653879289956283,
           0.006844097392003194,
           -0.011961053621690289,
           0.08024181995688222,
           0.015801475552611424,
           0.004207072968136138,
           0.06572813098735839,
           0.01963706993789685,
           -0.01948414284193056,
           null,
           -0.018047710921118926,
           -0.05664242247825841,
           0.021190697882125003,
           -0.0031843975043929318,
           0.062392132827680594,
           0.053057960912224075,
           0.017495806996034705,
           0.09356437989293319,
           0.10435617050917204,
           0.09370469483731515,
           0.03405226654018654,
           0.11799486023953464,
           0.015778896756724586,
           0.03899907649992117,
           0.045010932194433154,
           0.05388157611896005,
           0.041357385863677265,
           0.06665710819989053,
           0.5170681944658082,
           0.0033403484157255524,
           -0.018517958454157768,
           0.017274276416746556,
           1,
           0.03759066842114866,
           0.01656614459571313,
           0.02800548261674074
          ],
          [
           0.07445618992431076,
           -0.0018734129195190033,
           -0.009703287113673461,
           0.08087525717519348,
           0.030832882030167832,
           0.04027789559585079,
           0.06509489233785308,
           0.03769669150328419,
           0.011575722764972802,
           null,
           0.0068127831113758185,
           0.0023611676357230636,
           0.07168286456272063,
           0.04124151594875744,
           0.005031061655138951,
           0.027957183985396036,
           0.032098501930473,
           0.05301149473942661,
           0.0330956633043333,
           0.07750842417198285,
           0.07081523872396975,
           0.05424736038654271,
           0.08288730618839249,
           0.09698916835209523,
           0.05842708973927346,
           0.05851382615225262,
           0.03453235536047972,
           0.030058847430056112,
           0.23117093033203867,
           0.044728233347289266,
           0.08056872350598908,
           0.04019092124657575,
           0.03759066842114866,
           1,
           0.07434570186546482,
           0.003609771784357768
          ],
          [
           0.12199643124045056,
           -0.015551981782880198,
           -0.005720487724500701,
           0.12563427175510386,
           0.038813669086987815,
           0.03214748848557415,
           0.04486905173424359,
           0.01322529813888124,
           0.006573751636241952,
           null,
           0.04834783791497906,
           0.04514702386012417,
           0.05315449945499314,
           0.0023313110294653563,
           0.032250255108663715,
           0.031091236591541987,
           0.04569034173121861,
           0.08460113738229162,
           0.09664936720053076,
           0.15779349955432745,
           0.0595418063786648,
           0.09951878594288933,
           0.05807671595074275,
           0.038887647835169285,
           0.036649271938890206,
           0.0271123677387672,
           0.04402175613466063,
           0.16410709538763477,
           0.37877345773014504,
           0.10249785306326152,
           0.15547612693911805,
           0.06996379624335673,
           0.01656614459571313,
           0.07434570186546482,
           1,
           0.0031481279773227303
          ],
          [
           0.25412532931971243,
           0.6478322395807921,
           0.018568119755714235,
           0.3744426354322033,
           0.09892504990809989,
           0.062495576629557764,
           0.056926395900281215,
           0.04846365207926376,
           -0.03830851028340316,
           null,
           0.1932300608211891,
           0.2980588982858609,
           0.23400159331684345,
           0.06667091247008855,
           0.016673808047652512,
           0.008217724350919744,
           0.005474884387677931,
           0.010714746965966563,
           0.1926527562203034,
           0.03111526611627017,
           0.03957866576709371,
           0.07516741846635697,
           0.049525407181026826,
           0.016382143223611728,
           0.020680299577627934,
           0.0353709458042805,
           0.021553894412690074,
           0.002773871592880792,
           0.0784944311238955,
           0.0023493277796730696,
           0.0704786293133259,
           0.0040573847722308555,
           0.02800548261674074,
           0.003609771784357768,
           0.0031481279773227303,
           1
          ]
         ]
        }
       ],
       "layout": {
        "height": 1500,
        "template": {
         "data": {
          "bar": [
           {
            "error_x": {
             "color": "#2a3f5f"
            },
            "error_y": {
             "color": "#2a3f5f"
            },
            "marker": {
             "line": {
              "color": "#E5ECF6",
              "width": 0.5
             },
             "pattern": {
              "fillmode": "overlay",
              "size": 10,
              "solidity": 0.2
             }
            },
            "type": "bar"
           }
          ],
          "barpolar": [
           {
            "marker": {
             "line": {
              "color": "#E5ECF6",
              "width": 0.5
             },
             "pattern": {
              "fillmode": "overlay",
              "size": 10,
              "solidity": 0.2
             }
            },
            "type": "barpolar"
           }
          ],
          "carpet": [
           {
            "aaxis": {
             "endlinecolor": "#2a3f5f",
             "gridcolor": "white",
             "linecolor": "white",
             "minorgridcolor": "white",
             "startlinecolor": "#2a3f5f"
            },
            "baxis": {
             "endlinecolor": "#2a3f5f",
             "gridcolor": "white",
             "linecolor": "white",
             "minorgridcolor": "white",
             "startlinecolor": "#2a3f5f"
            },
            "type": "carpet"
           }
          ],
          "choropleth": [
           {
            "colorbar": {
             "outlinewidth": 0,
             "ticks": ""
            },
            "type": "choropleth"
           }
          ],
          "contour": [
           {
            "colorbar": {
             "outlinewidth": 0,
             "ticks": ""
            },
            "colorscale": [
             [
              0,
              "#0d0887"
             ],
             [
              0.1111111111111111,
              "#46039f"
             ],
             [
              0.2222222222222222,
              "#7201a8"
             ],
             [
              0.3333333333333333,
              "#9c179e"
             ],
             [
              0.4444444444444444,
              "#bd3786"
             ],
             [
              0.5555555555555556,
              "#d8576b"
             ],
             [
              0.6666666666666666,
              "#ed7953"
             ],
             [
              0.7777777777777778,
              "#fb9f3a"
             ],
             [
              0.8888888888888888,
              "#fdca26"
             ],
             [
              1,
              "#f0f921"
             ]
            ],
            "type": "contour"
           }
          ],
          "contourcarpet": [
           {
            "colorbar": {
             "outlinewidth": 0,
             "ticks": ""
            },
            "type": "contourcarpet"
           }
          ],
          "heatmap": [
           {
            "colorbar": {
             "outlinewidth": 0,
             "ticks": ""
            },
            "colorscale": [
             [
              0,
              "#0d0887"
             ],
             [
              0.1111111111111111,
              "#46039f"
             ],
             [
              0.2222222222222222,
              "#7201a8"
             ],
             [
              0.3333333333333333,
              "#9c179e"
             ],
             [
              0.4444444444444444,
              "#bd3786"
             ],
             [
              0.5555555555555556,
              "#d8576b"
             ],
             [
              0.6666666666666666,
              "#ed7953"
             ],
             [
              0.7777777777777778,
              "#fb9f3a"
             ],
             [
              0.8888888888888888,
              "#fdca26"
             ],
             [
              1,
              "#f0f921"
             ]
            ],
            "type": "heatmap"
           }
          ],
          "heatmapgl": [
           {
            "colorbar": {
             "outlinewidth": 0,
             "ticks": ""
            },
            "colorscale": [
             [
              0,
              "#0d0887"
             ],
             [
              0.1111111111111111,
              "#46039f"
             ],
             [
              0.2222222222222222,
              "#7201a8"
             ],
             [
              0.3333333333333333,
              "#9c179e"
             ],
             [
              0.4444444444444444,
              "#bd3786"
             ],
             [
              0.5555555555555556,
              "#d8576b"
             ],
             [
              0.6666666666666666,
              "#ed7953"
             ],
             [
              0.7777777777777778,
              "#fb9f3a"
             ],
             [
              0.8888888888888888,
              "#fdca26"
             ],
             [
              1,
              "#f0f921"
             ]
            ],
            "type": "heatmapgl"
           }
          ],
          "histogram": [
           {
            "marker": {
             "pattern": {
              "fillmode": "overlay",
              "size": 10,
              "solidity": 0.2
             }
            },
            "type": "histogram"
           }
          ],
          "histogram2d": [
           {
            "colorbar": {
             "outlinewidth": 0,
             "ticks": ""
            },
            "colorscale": [
             [
              0,
              "#0d0887"
             ],
             [
              0.1111111111111111,
              "#46039f"
             ],
             [
              0.2222222222222222,
              "#7201a8"
             ],
             [
              0.3333333333333333,
              "#9c179e"
             ],
             [
              0.4444444444444444,
              "#bd3786"
             ],
             [
              0.5555555555555556,
              "#d8576b"
             ],
             [
              0.6666666666666666,
              "#ed7953"
             ],
             [
              0.7777777777777778,
              "#fb9f3a"
             ],
             [
              0.8888888888888888,
              "#fdca26"
             ],
             [
              1,
              "#f0f921"
             ]
            ],
            "type": "histogram2d"
           }
          ],
          "histogram2dcontour": [
           {
            "colorbar": {
             "outlinewidth": 0,
             "ticks": ""
            },
            "colorscale": [
             [
              0,
              "#0d0887"
             ],
             [
              0.1111111111111111,
              "#46039f"
             ],
             [
              0.2222222222222222,
              "#7201a8"
             ],
             [
              0.3333333333333333,
              "#9c179e"
             ],
             [
              0.4444444444444444,
              "#bd3786"
             ],
             [
              0.5555555555555556,
              "#d8576b"
             ],
             [
              0.6666666666666666,
              "#ed7953"
             ],
             [
              0.7777777777777778,
              "#fb9f3a"
             ],
             [
              0.8888888888888888,
              "#fdca26"
             ],
             [
              1,
              "#f0f921"
             ]
            ],
            "type": "histogram2dcontour"
           }
          ],
          "mesh3d": [
           {
            "colorbar": {
             "outlinewidth": 0,
             "ticks": ""
            },
            "type": "mesh3d"
           }
          ],
          "parcoords": [
           {
            "line": {
             "colorbar": {
              "outlinewidth": 0,
              "ticks": ""
             }
            },
            "type": "parcoords"
           }
          ],
          "pie": [
           {
            "automargin": true,
            "type": "pie"
           }
          ],
          "scatter": [
           {
            "marker": {
             "colorbar": {
              "outlinewidth": 0,
              "ticks": ""
             }
            },
            "type": "scatter"
           }
          ],
          "scatter3d": [
           {
            "line": {
             "colorbar": {
              "outlinewidth": 0,
              "ticks": ""
             }
            },
            "marker": {
             "colorbar": {
              "outlinewidth": 0,
              "ticks": ""
             }
            },
            "type": "scatter3d"
           }
          ],
          "scattercarpet": [
           {
            "marker": {
             "colorbar": {
              "outlinewidth": 0,
              "ticks": ""
             }
            },
            "type": "scattercarpet"
           }
          ],
          "scattergeo": [
           {
            "marker": {
             "colorbar": {
              "outlinewidth": 0,
              "ticks": ""
             }
            },
            "type": "scattergeo"
           }
          ],
          "scattergl": [
           {
            "marker": {
             "colorbar": {
              "outlinewidth": 0,
              "ticks": ""
             }
            },
            "type": "scattergl"
           }
          ],
          "scattermapbox": [
           {
            "marker": {
             "colorbar": {
              "outlinewidth": 0,
              "ticks": ""
             }
            },
            "type": "scattermapbox"
           }
          ],
          "scatterpolar": [
           {
            "marker": {
             "colorbar": {
              "outlinewidth": 0,
              "ticks": ""
             }
            },
            "type": "scatterpolar"
           }
          ],
          "scatterpolargl": [
           {
            "marker": {
             "colorbar": {
              "outlinewidth": 0,
              "ticks": ""
             }
            },
            "type": "scatterpolargl"
           }
          ],
          "scatterternary": [
           {
            "marker": {
             "colorbar": {
              "outlinewidth": 0,
              "ticks": ""
             }
            },
            "type": "scatterternary"
           }
          ],
          "surface": [
           {
            "colorbar": {
             "outlinewidth": 0,
             "ticks": ""
            },
            "colorscale": [
             [
              0,
              "#0d0887"
             ],
             [
              0.1111111111111111,
              "#46039f"
             ],
             [
              0.2222222222222222,
              "#7201a8"
             ],
             [
              0.3333333333333333,
              "#9c179e"
             ],
             [
              0.4444444444444444,
              "#bd3786"
             ],
             [
              0.5555555555555556,
              "#d8576b"
             ],
             [
              0.6666666666666666,
              "#ed7953"
             ],
             [
              0.7777777777777778,
              "#fb9f3a"
             ],
             [
              0.8888888888888888,
              "#fdca26"
             ],
             [
              1,
              "#f0f921"
             ]
            ],
            "type": "surface"
           }
          ],
          "table": [
           {
            "cells": {
             "fill": {
              "color": "#EBF0F8"
             },
             "line": {
              "color": "white"
             }
            },
            "header": {
             "fill": {
              "color": "#C8D4E3"
             },
             "line": {
              "color": "white"
             }
            },
            "type": "table"
           }
          ]
         },
         "layout": {
          "annotationdefaults": {
           "arrowcolor": "#2a3f5f",
           "arrowhead": 0,
           "arrowwidth": 1
          },
          "autotypenumbers": "strict",
          "coloraxis": {
           "colorbar": {
            "outlinewidth": 0,
            "ticks": ""
           }
          },
          "colorscale": {
           "diverging": [
            [
             0,
             "#8e0152"
            ],
            [
             0.1,
             "#c51b7d"
            ],
            [
             0.2,
             "#de77ae"
            ],
            [
             0.3,
             "#f1b6da"
            ],
            [
             0.4,
             "#fde0ef"
            ],
            [
             0.5,
             "#f7f7f7"
            ],
            [
             0.6,
             "#e6f5d0"
            ],
            [
             0.7,
             "#b8e186"
            ],
            [
             0.8,
             "#7fbc41"
            ],
            [
             0.9,
             "#4d9221"
            ],
            [
             1,
             "#276419"
            ]
           ],
           "sequential": [
            [
             0,
             "#0d0887"
            ],
            [
             0.1111111111111111,
             "#46039f"
            ],
            [
             0.2222222222222222,
             "#7201a8"
            ],
            [
             0.3333333333333333,
             "#9c179e"
            ],
            [
             0.4444444444444444,
             "#bd3786"
            ],
            [
             0.5555555555555556,
             "#d8576b"
            ],
            [
             0.6666666666666666,
             "#ed7953"
            ],
            [
             0.7777777777777778,
             "#fb9f3a"
            ],
            [
             0.8888888888888888,
             "#fdca26"
            ],
            [
             1,
             "#f0f921"
            ]
           ],
           "sequentialminus": [
            [
             0,
             "#0d0887"
            ],
            [
             0.1111111111111111,
             "#46039f"
            ],
            [
             0.2222222222222222,
             "#7201a8"
            ],
            [
             0.3333333333333333,
             "#9c179e"
            ],
            [
             0.4444444444444444,
             "#bd3786"
            ],
            [
             0.5555555555555556,
             "#d8576b"
            ],
            [
             0.6666666666666666,
             "#ed7953"
            ],
            [
             0.7777777777777778,
             "#fb9f3a"
            ],
            [
             0.8888888888888888,
             "#fdca26"
            ],
            [
             1,
             "#f0f921"
            ]
           ]
          },
          "colorway": [
           "#636efa",
           "#EF553B",
           "#00cc96",
           "#ab63fa",
           "#FFA15A",
           "#19d3f3",
           "#FF6692",
           "#B6E880",
           "#FF97FF",
           "#FECB52"
          ],
          "font": {
           "color": "#2a3f5f"
          },
          "geo": {
           "bgcolor": "white",
           "lakecolor": "white",
           "landcolor": "#E5ECF6",
           "showlakes": true,
           "showland": true,
           "subunitcolor": "white"
          },
          "hoverlabel": {
           "align": "left"
          },
          "hovermode": "closest",
          "mapbox": {
           "style": "light"
          },
          "paper_bgcolor": "white",
          "plot_bgcolor": "#E5ECF6",
          "polar": {
           "angularaxis": {
            "gridcolor": "white",
            "linecolor": "white",
            "ticks": ""
           },
           "bgcolor": "#E5ECF6",
           "radialaxis": {
            "gridcolor": "white",
            "linecolor": "white",
            "ticks": ""
           }
          },
          "scene": {
           "xaxis": {
            "backgroundcolor": "#E5ECF6",
            "gridcolor": "white",
            "gridwidth": 2,
            "linecolor": "white",
            "showbackground": true,
            "ticks": "",
            "zerolinecolor": "white"
           },
           "yaxis": {
            "backgroundcolor": "#E5ECF6",
            "gridcolor": "white",
            "gridwidth": 2,
            "linecolor": "white",
            "showbackground": true,
            "ticks": "",
            "zerolinecolor": "white"
           },
           "zaxis": {
            "backgroundcolor": "#E5ECF6",
            "gridcolor": "white",
            "gridwidth": 2,
            "linecolor": "white",
            "showbackground": true,
            "ticks": "",
            "zerolinecolor": "white"
           }
          },
          "shapedefaults": {
           "line": {
            "color": "#2a3f5f"
           }
          },
          "ternary": {
           "aaxis": {
            "gridcolor": "white",
            "linecolor": "white",
            "ticks": ""
           },
           "baxis": {
            "gridcolor": "white",
            "linecolor": "white",
            "ticks": ""
           },
           "bgcolor": "#E5ECF6",
           "caxis": {
            "gridcolor": "white",
            "linecolor": "white",
            "ticks": ""
           }
          },
          "title": {
           "x": 0.05
          },
          "xaxis": {
           "automargin": true,
           "gridcolor": "white",
           "linecolor": "white",
           "ticks": "",
           "title": {
            "standoff": 15
           },
           "zerolinecolor": "white",
           "zerolinewidth": 2
          },
          "yaxis": {
           "automargin": true,
           "gridcolor": "white",
           "linecolor": "white",
           "ticks": "",
           "title": {
            "standoff": 15
           },
           "zerolinecolor": "white",
           "zerolinewidth": 2
          }
         }
        },
        "width": 1500,
        "xaxis": {
         "autorange": true,
         "nticks": 36,
         "range": [
          -0.5,
          35.5
         ],
         "type": "category"
        },
        "yaxis": {
         "autorange": true,
         "nticks": 36,
         "range": [
          -0.5,
          35.5
         ],
         "type": "category"
        }
       }
      },
      "image/png": "[encoded data removed]",
      "text/html": [
       "<div>                            <div id=\"6e805697-05d7-4858-a772-2116e9cde88f\" class=\"plotly-graph-div\" style=\"height:1500px; width:1500px;\"></div>            <script type=\"text/javascript\">                require([\"plotly\"], function(Plotly) {                    window.PLOTLYENV=window.PLOTLYENV || {};                                    if (document.getElementById(\"6e805697-05d7-4858-a772-2116e9cde88f\")) {                    Plotly.newPlot(                        \"6e805697-05d7-4858-a772-2116e9cde88f\",                        [{\"hoverongaps\":false,\"x\":[\"related\",\"request\",\"offer\",\"aid_related\",\"medical_help\",\"medical_products\",\"search_and_rescue\",\"security\",\"military\",\"child_alone\",\"water\",\"food\",\"shelter\",\"clothing\",\"money\",\"missing_people\",\"refugees\",\"death\",\"other_aid\",\"infrastructure_related\",\"transport\",\"buildings\",\"electricity\",\"tools\",\"hospitals\",\"shops\",\"aid_centers\",\"other_infrastructure\",\"weather_related\",\"floods\",\"storm\",\"fire\",\"earthquake\",\"cold\",\"other_weather\",\"direct_report\"],\"y\":[\"related\",\"request\",\"offer\",\"aid_related\",\"medical_help\",\"medical_products\",\"search_and_rescue\",\"security\",\"military\",\"child_alone\",\"water\",\"food\",\"shelter\",\"clothing\",\"money\",\"missing_people\",\"refugees\",\"death\",\"other_aid\",\"infrastructure_related\",\"transport\",\"buildings\",\"electricity\",\"tools\",\"hospitals\",\"shops\",\"aid_centers\",\"other_infrastructure\",\"weather_related\",\"floods\",\"storm\",\"fire\",\"earthquake\",\"cold\",\"other_weather\",\"direct_report\"],\"z\":[[1.0,0.23532829012810386,0.03500161651372368,0.43656873422912845,0.15244303523568536,0.11906773097027368,0.08735324050414724,0.0701091891150912,0.09545989617237804,null,0.1353746702826225,0.18386764827487026,0.1614713564429605,0.06500993949966126,0.0795990813635332,0.05567415887449833,0.09637422531630245,0.11332743941454367,0.2017167931050123,0.136708789670157,0.1136745079541077,0.1200660692382949,0.07474245051386054,0.04048987024485969,0.054147352363055734,0.03514904812892739,0.05660843400756749,0.11107512383222955,0.3220828406814262,0.15524307033641854,0.1663514697977872,0.05405055853088734,0.16653879289956283,0.07445618992431076,0.12199643124045056,0.25412532931971243],[0.23532829012810386,1.0,-0.03066847722673059,0.44770717212934147,0.12850474425149291,0.10653447664016864,0.07126343212644279,0.05682782822966436,-0.04438531729170833,null,0.2395131617036997,0.3509587586320222,0.2800092663873387,0.08174053398223005,0.06264984460527233,0.027569405396217165,0.02382506369615403,0.008522536097007637,0.24395865208603376,0.021590939089028933,0.02535519184349257,0.06259475612233979,0.010556354706917294,0.01934307452562356,0.016301205131447866,0.0322581397078201,0.02270267068873771,-0.002848921981848701,-0.015204749044151642,-0.005863842372277167,-0.04614246352703627,-0.009045052622715509,0.006844097392003194,-0.0018734129195190033,-0.015551981782880198,0.6478322395807921],[0.03500161651372368,-0.03066847722673059,1.0,0.06750411930062056,0.005290069041016758,0.03909715017247526,-0.000995622775575049,-0.00913677683456691,0.0003024433183320406,null,0.005567434055111971,0.0642895032626647,0.004935958094085782,0.06046175668829382,0.05392610827646741,-0.007255573363620902,-0.0094021780496866,-0.014769070021103907,0.03247853814622787,-0.013213711959774846,-0.003966395861813173,-0.015647262418526996,-0.0017063589124210413,-0.005276724965119042,-0.0015652456448230823,-0.004580697805165912,-0.0021194450728836555,-0.014475543521990531,-0.01412376472653841,-0.0016496348844279867,-0.013878033034883238,-0.001543009544513621,-0.011961053621690289,-0.009703287113673461,-0.005720487724500701,0.018568119755714235],[0.43656873422912845,0.44770717212934147,0.06750411930062056,1.0,0.34918450013344066,0.27273536017305117,0.20009046378090128,0.16059141119871276,0.21865948861623558,null,0.3100878731539541,0.42116540617489373,0.36986468288454216,0.14891112075273355,0.1823288639853825,0.12752667451737232,0.22075384185831604,0.2595867054351759,0.46205047977426755,0.19759358654706735,0.1549203850172461,0.1496387907638569,0.06980181448523193,0.08576500718302159,0.10829459711423021,0.06445332939431805,0.11603573469055058,0.13122779231628548,0.20833152329835608,0.16713017458826518,0.059312410274189584,0.05325234841655466,0.08024181995688222,0.08087525717519348,0.12563427175510386,0.3744426354322033],[0.15244303523568536,0.12850474425149291,0.005290069041016758,0.34918450013344066,1.0,0.3412404549261667,0.10348983611007274,0.06099475280525548,0.005944424273998596,null,0.13642547921549208,0.08841140826823887,0.08204803277559605,0.03956546154201889,0.02151024282619179,0.08518752262642214,0.08095344460961108,0.12004975645225636,0.08231775163562768,0.10928039258289729,0.23383425862582974,0.04018360315783992,0.020425753856268103,0.053249091448034004,0.1642773657471259,0.03641708717167095,0.06057660234136399,0.03462469838495412,0.09635935262896864,0.18568565240942544,0.0068063883893594215,0.026697576759298805,0.015801475552611424,0.030832882030167832,0.038813669086987815,0.09892504990809989],[0.11906773097027368,0.10653447664016864,0.03909715017247526,0.27273536017305117,0.3412404549261667,1.0,0.08075650805475282,0.05973194244421871,-0.005024808984931473,null,0.24816531811050074,0.1909229649660546,0.16421308083378983,0.17788510618285505,0.04394822354214326,0.10044256487781632,0.08178716032288606,0.059513110728793304,0.10713771020725735,0.09749005934458843,0.12171684541187457,0.031859580350101654,0.04730713882743603,0.07661782659013325,0.09949294392118568,0.043984540655486425,0.08019272029703406,0.04376405741353771,0.0459751295652626,0.09146690389504776,0.0001556502135984962,0.03365829799214728,0.004207072968136138,0.04027789559585079,0.03214748848557415,0.062495576629557764],[0.08735324050414724,0.07126343212644279,-0.000995622775575049,0.20009046378090128,0.10348983611007274,0.08075650805475282,1.0,0.10162026551465372,0.04605366100885163,null,0.023567327687120523,0.010383957580760883,0.03683541344905756,0.012788274246446405,0.014450551188795,0.2274130938348823,0.12796730497047268,0.11374110406462684,0.08316318417243809,0.09524439098185963,0.17995816636200115,0.09330316803990425,0.056434414421726586,0.09176221834058088,0.0747443293696087,0.023052183091400495,0.044135734279553133,0.061580954996779416,0.14346720122387968,0.143455574705603,0.03869799293676563,0.05237245191522588,0.06572813098735839,0.06509489233785308,0.04486905173424359,0.056926395900281215],[0.0701091891150912,0.05682782822966436,-0.00913677683456691,0.16059141119871276,0.06099475280525548,0.05973194244421871,0.10162026551465372,1.0,0.1604863663697356,null,-0.004798902000430352,0.002133888237363504,0.020552643234845028,0.04814969197947022,-0.0016370973016194698,0.14773569635942174,0.10747089652940367,0.09841072408597476,0.06120666038010708,0.06563311737173044,0.14737351656479322,0.04311676527538229,0.03334611168283499,0.06710353941814158,0.04144590060614301,0.04613134169712981,0.03311870280635103,0.03267814987737924,0.07993266922360363,0.10680216479072782,0.0029647620256691683,0.05827190582725751,0.01963706993789685,0.03769669150328419,0.01322529813888124,0.04846365207926376],[0.09545989617237804,-0.04438531729170833,0.0003024433183320406,0.21865948861623558,0.005944424273998596,-0.005024808984931473,0.04605366100885163,0.1604863663697356,1.0,null,-0.01745956612789049,-0.028648630561680075,-0.023454066538879707,-0.004029046223377784,-0.0011713951718237187,0.024580397460610047,0.05749833077370458,0.0982706144787539,-0.0013613155691738958,0.05475478892174112,0.019980597977165594,0.006030817828911124,0.012850180577826706,0.035255623143088916,0.030490656647474662,0.02240460290926959,0.03146984217581942,0.033686854659672444,-0.015583995763025597,-0.0006359515719977062,-0.031893422153521624,0.0430680194428593,-0.01948414284193056,0.011575722764972802,0.006573751636241952,-0.03830851028340316],[null,null,null,null,null,null,null,null,null,null,null,null,null,null,null,null,null,null,null,null,null,null,null,null,null,null,null,null,null,null,null,null,null,null,null,null],[0.1353746702826225,0.2395131617036997,0.005567434055111971,0.3100878731539541,0.13642547921549208,0.24816531811050074,0.023567327687120523,-0.004798902000430352,-0.01745956612789049,null,1.0,0.3515032336281693,0.2076194399752793,0.09990206883991257,0.026433604175335575,0.004262535131549378,0.0330277274228849,0.0071811763255805365,0.045589475078909404,0.07914590306122223,0.023231842684551494,0.031741177433924746,0.06283370037773754,0.033846685653797844,0.03611910761129954,0.04700055768735886,0.059649291992637236,0.055954097257305095,-0.00014723550926872068,0.021091749318873934,-0.004487427805516479,0.01359229036909813,-0.018047710921118926,0.0068127831113758185,0.04834783791497906,0.1932300608211891],[0.18386764827487026,0.3509587586320222,0.0642895032626647,0.42116540617489373,0.08841140826823887,0.1909229649660546,0.010383957580760883,0.002133888237363504,-0.028648630561680075,null,0.3515032336281693,1.0,0.22841587110765182,0.19767290277604804,0.05364032830760871,-0.013030772880345664,0.02429309949047595,0.00016511782056726393,0.0363623295251728,0.03995398743458657,0.014755573166134838,0.014728265546319484,0.0002550870141435563,0.0268568104614872,0.001593339574937971,0.04229898334963912,0.03864882005830579,0.02559596985496011,-0.015497734100616055,0.012655945407983819,-0.0011200484931248582,0.007595562849868164,-0.05664242247825841,0.0023611676357230636,0.04514702386012417,0.2980588982858609],[0.1614713564429605,0.2800092663873387,0.004935958094085782,0.36986468288454216,0.08204803277559605,0.16421308083378983,0.03683541344905756,0.020552643234845028,-0.023454066538879707,null,0.2076194399752793,0.22841587110765182,1.0,0.16544383127606793,0.03810193537657708,0.004481164266480309,0.1879794401467546,0.020066099010468946,0.0667347582856509,0.14770286141406513,0.02603283161872466,0.2168447139650747,0.02353420934426655,0.046594505745797064,0.027244674171286076,0.048521487709444394,0.1564055992098922,0.0971374555894032,0.09106347245473474,0.06795992684110766,0.05419487057203569,0.0169896744198648,0.021190697882125003,0.07168286456272063,0.05315449945499314,0.23400159331684345],[0.06500993949966126,0.08174053398223005,0.06046175668829382,0.14891112075273355,0.03956546154201889,0.17788510618285505,0.012788274246446405,0.04814969197947022,-0.004029046223377784,null,0.09990206883991257,0.19767290277604804,0.16544383127606793,1.0,0.05280045450665519,0.006888790152977763,0.016207723773131878,-0.006704367540156507,0.04715047138517244,0.02954803129584866,0.02120536582418282,0.01449908702078454,0.01908553872101546,0.029987153444866035,0.04668256258443343,0.014374574704630463,0.03495783645740881,0.004777687635625374,0.011631197608393448,0.009630521509211686,-0.0031050702062713435,0.007879762652303321,-0.0031843975043929318,0.04124151594875744,0.0023313110294653563,0.06667091247008855],[0.0795990813635332,0.06264984460527233,0.05392610827646741,0.1823288639853825,0.02151024282619179,0.04394822354214326,0.014450551188795,-0.0016370973016194698,-0.0011713951718237187,null,0.026433604175335575,0.05364032830760871,0.03810193537657708,0.05280045450665519,1.0,0.002655089554786429,0.01670885148121696,-0.0019063824266024132,0.08917280435631242,0.06259080904077008,0.027065528360251934,0.036120654858375005,0.021045598429624564,0.02402129217933365,0.02823976299097067,0.0272488913370232,0.03505072728833688,0.052707031820834686,0.0690344812223938,0.04557310651577549,0.023226989799504036,0.0036987419000401893,0.062392132827680594,0.005031061655138951,0.032250255108663715,0.016673808047652512],[0.05567415887449833,0.027569405396217165,-0.007255573363620902,0.12752667451737232,0.08518752262642214,0.10044256487781632,0.2274130938348823,0.14773569635942174,0.024580397460610047,null,0.004262535131549378,-0.013030772880345664,0.004481164266480309,0.006888790152977763,0.002655089554786429,1.0,0.13593492172707475,0.19343036775109906,0.0666044495430311,0.04158799260148755,0.2030576417529334,0.03557153082442899,0.022652280816483118,0.03787457046742252,0.020062596338593353,0.02464492463326461,0.03153637914251508,0.02957577484859092,0.1231691371127412,0.17302533690472874,0.030953203646879965,0.00969022826166712,0.053057960912224075,0.027957183985396036,0.031091236591541987,0.008217724350919744],[0.09637422531630245,0.02382506369615403,-0.0094021780496866,0.22075384185831604,0.08095344460961108,0.08178716032288606,0.12796730497047268,0.10747089652940367,0.05749833077370458,null,0.0330277274228849,0.02429309949047595,0.1879794401467546,0.016207723773131878,0.01670885148121696,0.13593492172707475,1.0,0.10072584283841421,0.07520414288146818,0.12051194242231916,0.14179873462216008,0.08918718634546391,0.016754107232772437,0.02374296742524546,0.023703656705167914,0.04398642396130254,0.12521908182669203,0.08031478910758788,0.10508245284817472,0.14739885186859583,0.03732997088845899,0.03204425618545202,0.017495806996034705,0.032098501930473,0.04569034173121861,0.005474884387677931],[0.11332743941454367,0.008522536097007637,-0.014769070021103907,0.2595867054351759,0.12004975645225636,0.059513110728793304,0.11374110406462684,0.09841072408597476,0.0982706144787539,null,0.0071811763255805365,0.00016511782056726393,0.020066099010468946,-0.006704367540156507,-0.0019063824266024132,0.19343036775109906,0.10072584283841421,1.0,0.022526133111545422,0.07872356844021375,0.13463213162864238,0.11980611939980913,0.013756610346875576,0.022941800260213172,0.02845498085796072,0.036624848217081625,0.035398446573426855,0.06734101848936674,0.16751983549549349,0.15864618350436888,0.07934251642563542,0.035674342844929596,0.09356437989293319,0.05301149473942661,0.08460113738229162,0.010714746965966563],[0.2017167931050123,0.24395865208603376,0.03247853814622787,0.46205047977426755,0.08231775163562768,0.10713771020725735,0.08316318417243809,0.06120666038010708,-0.0013613155691738958,null,0.045589475078909404,0.0363623295251728,0.0667347582856509,0.04715047138517244,0.08917280435631242,0.0666044495430311,0.07520414288146818,0.022526133111545422,1.0,0.13808164149692684,0.11744254865659005,0.08232820084269953,0.0884837295866437,0.0582648557447731,0.028142628276851944,0.025435277821012656,0.0662461484810312,0.13582996740751452,0.16953164008763252,0.10639245460849826,0.058157004185373666,0.03490073638101855,0.10435617050917204,0.0330956633043333,0.09664936720053076,0.1926527562203034],[0.136708789670157,0.021590939089028933,-0.013213711959774846,0.19759358654706735,0.10928039258289729,0.09749005934458843,0.09524439098185963,0.06563311737173044,0.05475478892174112,null,0.07914590306122223,0.03995398743458657,0.14770286141406513,0.02954803129584866,0.06259080904077008,0.04158799260148755,0.12051194242231916,0.07872356844021375,0.13808164149692684,1.0,0.12474397963969144,0.247085041798358,0.10103035702967866,0.061077153647464216,0.39607806121098366,0.2571089116781218,0.41408042704605164,0.8124943838668013,0.23326680075909528,0.17200355200547351,0.11895147031315295,0.07595892336142245,0.09370469483731515,0.07750842417198285,0.15779349955432745,0.03111526611627017],[0.1136745079541077,0.02535519184349257,-0.003966395861813173,0.1549203850172461,0.23383425862582974,0.12171684541187457,0.17995816636200115,0.14737351656479322,0.019980597977165594,null,0.023231842684551494,0.014755573166134838,0.02603283161872466,0.02120536582418282,0.027065528360251934,0.2030576417529334,0.14179873462216008,0.13463213162864238,0.11744254865659005,0.12474397963969144,1.0,0.12498279873075456,0.12064903176605814,0.03921428528301583,0.03177099169224216,0.04453879700323896,0.04360656849878404,0.13361470559563876,0.25654853897198404,0.3966092947193589,0.09437662974727878,0.03897674713470662,0.03405226654018654,0.07081523872396975,0.0595418063786648,0.03957866576709371],[0.1200660692382949,0.06259475612233979,-0.015647262418526996,0.1496387907638569,0.04018360315783992,0.031859580350101654,0.09330316803990425,0.04311676527538229,0.006030817828911124,null,0.031741177433924746,0.014728265546319484,0.2168447139650747,0.01449908702078454,0.036120654858375005,0.03557153082442899,0.08918718634546391,0.11980611939980913,0.08232820084269953,0.247085041798358,0.12498279873075456,1.0,0.09064740187732542,0.024360144106590962,0.0631070590432254,0.0896775769326861,0.08080270629701969,0.24929724313346668,0.21794404588145877,0.16292396307363285,0.11288760927506329,0.07171353764267796,0.11799486023953464,0.05424736038654271,0.09951878594288933,0.07516741846635697],[0.07474245051386054,0.010556354706917294,-0.0017063589124210413,0.06980181448523193,0.020425753856268103,0.04730713882743603,0.056434414421726586,0.03334611168283499,0.012850180577826706,null,0.06283370037773754,0.0002550870141435563,0.02353420934426655,0.01908553872101546,0.021045598429624564,0.022652280816483118,0.016754107232772437,0.013756610346875576,0.0884837295866437,0.10103035702967866,0.12064903176605814,0.09064740187732542,1.0,0.04090124545139182,0.02935487375821533,0.03422300698576427,0.03678950362076103,0.10747874251420554,0.13266047085936425,0.05603029639105679,0.12725830812694228,0.08704965231186083,0.015778896756724586,0.08288730618839249,0.05807671595074275,0.049525407181026826],[0.04048987024485969,0.01934307452562356,-0.005276724965119042,0.08576500718302159,0.053249091448034004,0.07661782659013325,0.09176221834058088,0.06710353941814158,0.035255623143088916,null,0.033846685653797844,0.0268568104614872,0.046594505745797064,0.029987153444866035,0.02402129217933365,0.03787457046742252,0.02374296742524546,0.022941800260213172,0.0582648557447731,0.061077153647464216,0.03921428528301583,0.024360144106590962,0.04090124545139182,1.0,0.03938001075646654,0.031092457431049145,0.023331148062539907,0.050396966422667,0.0731031738508543,0.03201001974461034,0.0188234988306208,0.06329109863675145,0.03899907649992117,0.09698916835209523,0.038887647835169285,0.016382143223611728],[0.054147352363055734,0.016301205131447866,-0.0015652456448230823,0.10829459711423021,0.1642773657471259,0.09949294392118568,0.0747443293696087,0.04144590060614301,0.030490656647474662,null,0.03611910761129954,0.001593339574937971,0.027244674171286076,0.04668256258443343,0.02823976299097067,0.020062596338593353,0.023703656705167914,0.02845498085796072,0.028142628276851944,0.39607806121098366,0.03177099169224216,0.0631070590432254,0.02935487375821533,0.03938001075646654,1.0,0.04213042650812572,0.13565902696346208,0.046070534268250835,0.06600217515003347,0.023767691715940266,0.010866179720931608,0.03562221729599448,0.045010932194433154,0.05842708973927346,0.036649271938890206,0.020680299577627934],[0.03514904812892739,0.0322581397078201,-0.004580697805165912,0.06445332939431805,0.03641708717167095,0.043984540655486425,0.023052183091400495,0.04613134169712981,0.02240460290926959,null,0.04700055768735886,0.04229898334963912,0.048521487709444394,0.014374574704630463,0.0272488913370232,0.02464492463326461,0.04398642396130254,0.036624848217081625,0.025435277821012656,0.2571089116781218,0.04453879700323896,0.0896775769326861,0.03422300698576427,0.031092457431049145,0.04213042650812572,1.0,0.02924381720753145,0.04890140140933369,0.08013478538206595,0.04342171386986546,0.03261112120688693,0.04222932962298583,0.05388157611896005,0.05851382615225262,0.0271123677387672,0.0353709458042805],[0.05660843400756749,0.02270267068873771,-0.0021194450728836555,0.11603573469055058,0.06057660234136399,0.08019272029703406,0.044135734279553133,0.03311870280635103,0.03146984217581942,null,0.059649291992637236,0.03864882005830579,0.1564055992098922,0.03495783645740881,0.03505072728833688,0.03153637914251508,0.12521908182669203,0.035398446573426855,0.0662461484810312,0.41408042704605164,0.04360656849878404,0.08080270629701969,0.03678950362076103,0.023331148062539907,0.13565902696346208,0.02924381720753145,1.0,0.08526915770890901,0.07009983214506559,0.03929354483178071,0.03903736723873995,0.053706748380796344,0.041357385863677265,0.03453235536047972,0.04402175613466063,0.021553894412690074],[0.11107512383222955,-0.002848921981848701,-0.014475543521990531,0.13122779231628548,0.03462469838495412,0.04376405741353771,0.061580954996779416,0.03267814987737924,0.033686854659672444,null,0.055954097257305095,0.02559596985496011,0.0971374555894032,0.004777687635625374,0.052707031820834686,0.02957577484859092,0.08031478910758788,0.06734101848936674,0.13582996740751452,0.8124943838668013,0.13361470559563876,0.24929724313346668,0.10747874251420554,0.050396966422667,0.046070534268250835,0.04890140140933369,0.08526915770890901,1.0,0.21278368427199226,0.181695120824727,0.1238086784404948,0.05344990402444649,0.06665710819989053,0.030058847430056112,0.16410709538763477,0.002773871592880792],[0.3220828406814262,-0.015204749044151642,-0.01412376472653841,0.20833152329835608,0.09635935262896864,0.0459751295652626,0.14346720122387968,0.07993266922360363,-0.015583995763025597,null,-0.00014723550926872068,-0.015497734100616055,0.09106347245473474,0.011631197608393448,0.0690344812223938,0.1231691371127412,0.10508245284817472,0.16751983549549349,0.16953164008763252,0.23326680075909528,0.25654853897198404,0.21794404588145877,0.13266047085936425,0.0731031738508543,0.06600217515003347,0.08013478538206595,0.07009983214506559,0.21278368427199226,1.0,0.4819973333815979,0.5164865953300757,0.16781570361380738,0.5170681944658082,0.23117093033203867,0.37877345773014504,0.0784944311238955],[0.15524307033641854,-0.005863842372277167,-0.0016496348844279867,0.16713017458826518,0.18568565240942544,0.09146690389504776,0.143455574705603,0.10680216479072782,-0.0006359515719977062,null,0.021091749318873934,0.012655945407983819,0.06795992684110766,0.009630521509211686,0.04557310651577549,0.17302533690472874,0.14739885186859583,0.15864618350436888,0.10639245460849826,0.17200355200547351,0.3966092947193589,0.16292396307363285,0.05603029639105679,0.03201001974461034,0.023767691715940266,0.04342171386986546,0.03929354483178071,0.181695120824727,0.4819973333815979,1.0,0.20579008763567996,0.04141063545021331,0.0033403484157255524,0.044728233347289266,0.10249785306326152,0.0023493277796730696],[0.1663514697977872,-0.04614246352703627,-0.013878033034883238,0.059312410274189584,0.0068063883893594215,0.0001556502135984962,0.03869799293676563,0.0029647620256691683,-0.031893422153521624,null,-0.004487427805516479,-0.0011200484931248582,0.05419487057203569,-0.0031050702062713435,0.023226989799504036,0.030953203646879965,0.03732997088845899,0.07934251642563542,0.058157004185373666,0.11895147031315295,0.09437662974727878,0.11288760927506329,0.12725830812694228,0.0188234988306208,0.010866179720931608,0.03261112120688693,0.03903736723873995,0.1238086784404948,0.5164865953300757,0.20579008763567996,1.0,0.027525718529767762,-0.018517958454157768,0.08056872350598908,0.15547612693911805,0.0704786293133259],[0.05405055853088734,-0.009045052622715509,-0.001543009544513621,0.05325234841655466,0.026697576759298805,0.03365829799214728,0.05237245191522588,0.05827190582725751,0.0430680194428593,null,0.01359229036909813,0.007595562849868164,0.0169896744198648,0.007879762652303321,0.0036987419000401893,0.00969022826166712,0.03204425618545202,0.035674342844929596,0.03490073638101855,0.07595892336142245,0.03897674713470662,0.07171353764267796,0.08704965231186083,0.06329109863675145,0.03562221729599448,0.04222932962298583,0.053706748380796344,0.05344990402444649,0.16781570361380738,0.04141063545021331,0.027525718529767762,1.0,0.017274276416746556,0.04019092124657575,0.06996379624335673,0.0040573847722308555],[0.16653879289956283,0.006844097392003194,-0.011961053621690289,0.08024181995688222,0.015801475552611424,0.004207072968136138,0.06572813098735839,0.01963706993789685,-0.01948414284193056,null,-0.018047710921118926,-0.05664242247825841,0.021190697882125003,-0.0031843975043929318,0.062392132827680594,0.053057960912224075,0.017495806996034705,0.09356437989293319,0.10435617050917204,0.09370469483731515,0.03405226654018654,0.11799486023953464,0.015778896756724586,0.03899907649992117,0.045010932194433154,0.05388157611896005,0.041357385863677265,0.06665710819989053,0.5170681944658082,0.0033403484157255524,-0.018517958454157768,0.017274276416746556,1.0,0.03759066842114866,0.01656614459571313,0.02800548261674074],[0.07445618992431076,-0.0018734129195190033,-0.009703287113673461,0.08087525717519348,0.030832882030167832,0.04027789559585079,0.06509489233785308,0.03769669150328419,0.011575722764972802,null,0.0068127831113758185,0.0023611676357230636,0.07168286456272063,0.04124151594875744,0.005031061655138951,0.027957183985396036,0.032098501930473,0.05301149473942661,0.0330956633043333,0.07750842417198285,0.07081523872396975,0.05424736038654271,0.08288730618839249,0.09698916835209523,0.05842708973927346,0.05851382615225262,0.03453235536047972,0.030058847430056112,0.23117093033203867,0.044728233347289266,0.08056872350598908,0.04019092124657575,0.03759066842114866,1.0,0.07434570186546482,0.003609771784357768],[0.12199643124045056,-0.015551981782880198,-0.005720487724500701,0.12563427175510386,0.038813669086987815,0.03214748848557415,0.04486905173424359,0.01322529813888124,0.006573751636241952,null,0.04834783791497906,0.04514702386012417,0.05315449945499314,0.0023313110294653563,0.032250255108663715,0.031091236591541987,0.04569034173121861,0.08460113738229162,0.09664936720053076,0.15779349955432745,0.0595418063786648,0.09951878594288933,0.05807671595074275,0.038887647835169285,0.036649271938890206,0.0271123677387672,0.04402175613466063,0.16410709538763477,0.37877345773014504,0.10249785306326152,0.15547612693911805,0.06996379624335673,0.01656614459571313,0.07434570186546482,1.0,0.0031481279773227303],[0.25412532931971243,0.6478322395807921,0.018568119755714235,0.3744426354322033,0.09892504990809989,0.062495576629557764,0.056926395900281215,0.04846365207926376,-0.03830851028340316,null,0.1932300608211891,0.2980588982858609,0.23400159331684345,0.06667091247008855,0.016673808047652512,0.008217724350919744,0.005474884387677931,0.010714746965966563,0.1926527562203034,0.03111526611627017,0.03957866576709371,0.07516741846635697,0.049525407181026826,0.016382143223611728,0.020680299577627934,0.0353709458042805,0.021553894412690074,0.002773871592880792,0.0784944311238955,0.0023493277796730696,0.0704786293133259,0.0040573847722308555,0.02800548261674074,0.003609771784357768,0.0031481279773227303,1.0]],\"type\":\"heatmap\"}],                        {\"template\":{\"data\":{\"bar\":[{\"error_x\":{\"color\":\"#2a3f5f\"},\"error_y\":{\"color\":\"#2a3f5f\"},\"marker\":{\"line\":{\"color\":\"#E5ECF6\",\"width\":0.5},\"pattern\":{\"fillmode\":\"overlay\",\"size\":10,\"solidity\":0.2}},\"type\":\"bar\"}],\"barpolar\":[{\"marker\":{\"line\":{\"color\":\"#E5ECF6\",\"width\":0.5},\"pattern\":{\"fillmode\":\"overlay\",\"size\":10,\"solidity\":0.2}},\"type\":\"barpolar\"}],\"carpet\":[{\"aaxis\":{\"endlinecolor\":\"#2a3f5f\",\"gridcolor\":\"white\",\"linecolor\":\"white\",\"minorgridcolor\":\"white\",\"startlinecolor\":\"#2a3f5f\"},\"baxis\":{\"endlinecolor\":\"#2a3f5f\",\"gridcolor\":\"white\",\"linecolor\":\"white\",\"minorgridcolor\":\"white\",\"startlinecolor\":\"#2a3f5f\"},\"type\":\"carpet\"}],\"choropleth\":[{\"colorbar\":{\"outlinewidth\":0,\"ticks\":\"\"},\"type\":\"choropleth\"}],\"contour\":[{\"colorbar\":{\"outlinewidth\":0,\"ticks\":\"\"},\"colorscale\":[[0.0,\"#0d0887\"],[0.1111111111111111,\"#46039f\"],[0.2222222222222222,\"#7201a8\"],[0.3333333333333333,\"#9c179e\"],[0.4444444444444444,\"#bd3786\"],[0.5555555555555556,\"#d8576b\"],[0.6666666666666666,\"#ed7953\"],[0.7777777777777778,\"#fb9f3a\"],[0.8888888888888888,\"#fdca26\"],[1.0,\"#f0f921\"]],\"type\":\"contour\"}],\"contourcarpet\":[{\"colorbar\":{\"outlinewidth\":0,\"ticks\":\"\"},\"type\":\"contourcarpet\"}],\"heatmap\":[{\"colorbar\":{\"outlinewidth\":0,\"ticks\":\"\"},\"colorscale\":[[0.0,\"#0d0887\"],[0.1111111111111111,\"#46039f\"],[0.2222222222222222,\"#7201a8\"],[0.3333333333333333,\"#9c179e\"],[0.4444444444444444,\"#bd3786\"],[0.5555555555555556,\"#d8576b\"],[0.6666666666666666,\"#ed7953\"],[0.7777777777777778,\"#fb9f3a\"],[0.8888888888888888,\"#fdca26\"],[1.0,\"#f0f921\"]],\"type\":\"heatmap\"}],\"heatmapgl\":[{\"colorbar\":{\"outlinewidth\":0,\"ticks\":\"\"},\"colorscale\":[[0.0,\"#0d0887\"],[0.1111111111111111,\"#46039f\"],[0.2222222222222222,\"#7201a8\"],[0.3333333333333333,\"#9c179e\"],[0.4444444444444444,\"#bd3786\"],[0.5555555555555556,\"#d8576b\"],[0.6666666666666666,\"#ed7953\"],[0.7777777777777778,\"#fb9f3a\"],[0.8888888888888888,\"#fdca26\"],[1.0,\"#f0f921\"]],\"type\":\"heatmapgl\"}],\"histogram\":[{\"marker\":{\"pattern\":{\"fillmode\":\"overlay\",\"size\":10,\"solidity\":0.2}},\"type\":\"histogram\"}],\"histogram2d\":[{\"colorbar\":{\"outlinewidth\":0,\"ticks\":\"\"},\"colorscale\":[[0.0,\"#0d0887\"],[0.1111111111111111,\"#46039f\"],[0.2222222222222222,\"#7201a8\"],[0.3333333333333333,\"#9c179e\"],[0.4444444444444444,\"#bd3786\"],[0.5555555555555556,\"#d8576b\"],[0.6666666666666666,\"#ed7953\"],[0.7777777777777778,\"#fb9f3a\"],[0.8888888888888888,\"#fdca26\"],[1.0,\"#f0f921\"]],\"type\":\"histogram2d\"}],\"histogram2dcontour\":[{\"colorbar\":{\"outlinewidth\":0,\"ticks\":\"\"},\"colorscale\":[[0.0,\"#0d0887\"],[0.1111111111111111,\"#46039f\"],[0.2222222222222222,\"#7201a8\"],[0.3333333333333333,\"#9c179e\"],[0.4444444444444444,\"#bd3786\"],[0.5555555555555556,\"#d8576b\"],[0.6666666666666666,\"#ed7953\"],[0.7777777777777778,\"#fb9f3a\"],[0.8888888888888888,\"#fdca26\"],[1.0,\"#f0f921\"]],\"type\":\"histogram2dcontour\"}],\"mesh3d\":[{\"colorbar\":{\"outlinewidth\":0,\"ticks\":\"\"},\"type\":\"mesh3d\"}],\"parcoords\":[{\"line\":{\"colorbar\":{\"outlinewidth\":0,\"ticks\":\"\"}},\"type\":\"parcoords\"}],\"pie\":[{\"automargin\":true,\"type\":\"pie\"}],\"scatter\":[{\"marker\":{\"colorbar\":{\"outlinewidth\":0,\"ticks\":\"\"}},\"type\":\"scatter\"}],\"scatter3d\":[{\"line\":{\"colorbar\":{\"outlinewidth\":0,\"ticks\":\"\"}},\"marker\":{\"colorbar\":{\"outlinewidth\":0,\"ticks\":\"\"}},\"type\":\"scatter3d\"}],\"scattercarpet\":[{\"marker\":{\"colorbar\":{\"outlinewidth\":0,\"ticks\":\"\"}},\"type\":\"scattercarpet\"}],\"scattergeo\":[{\"marker\":{\"colorbar\":{\"outlinewidth\":0,\"ticks\":\"\"}},\"type\":\"scattergeo\"}],\"scattergl\":[{\"marker\":{\"colorbar\":{\"outlinewidth\":0,\"ticks\":\"\"}},\"type\":\"scattergl\"}],\"scattermapbox\":[{\"marker\":{\"colorbar\":{\"outlinewidth\":0,\"ticks\":\"\"}},\"type\":\"scattermapbox\"}],\"scatterpolar\":[{\"marker\":{\"colorbar\":{\"outlinewidth\":0,\"ticks\":\"\"}},\"type\":\"scatterpolar\"}],\"scatterpolargl\":[{\"marker\":{\"colorbar\":{\"outlinewidth\":0,\"ticks\":\"\"}},\"type\":\"scatterpolargl\"}],\"scatterternary\":[{\"marker\":{\"colorbar\":{\"outlinewidth\":0,\"ticks\":\"\"}},\"type\":\"scatterternary\"}],\"surface\":[{\"colorbar\":{\"outlinewidth\":0,\"ticks\":\"\"},\"colorscale\":[[0.0,\"#0d0887\"],[0.1111111111111111,\"#46039f\"],[0.2222222222222222,\"#7201a8\"],[0.3333333333333333,\"#9c179e\"],[0.4444444444444444,\"#bd3786\"],[0.5555555555555556,\"#d8576b\"],[0.6666666666666666,\"#ed7953\"],[0.7777777777777778,\"#fb9f3a\"],[0.8888888888888888,\"#fdca26\"],[1.0,\"#f0f921\"]],\"type\":\"surface\"}],\"table\":[{\"cells\":{\"fill\":{\"color\":\"#EBF0F8\"},\"line\":{\"color\":\"white\"}},\"header\":{\"fill\":{\"color\":\"#C8D4E3\"},\"line\":{\"color\":\"white\"}},\"type\":\"table\"}]},\"layout\":{\"annotationdefaults\":{\"arrowcolor\":\"#2a3f5f\",\"arrowhead\":0,\"arrowwidth\":1},\"autotypenumbers\":\"strict\",\"coloraxis\":{\"colorbar\":{\"outlinewidth\":0,\"ticks\":\"\"}},\"colorscale\":{\"diverging\":[[0,\"#8e0152\"],[0.1,\"#c51b7d\"],[0.2,\"#de77ae\"],[0.3,\"#f1b6da\"],[0.4,\"#fde0ef\"],[0.5,\"#f7f7f7\"],[0.6,\"#e6f5d0\"],[0.7,\"#b8e186\"],[0.8,\"#7fbc41\"],[0.9,\"#4d9221\"],[1,\"#276419\"]],\"sequential\":[[0.0,\"#0d0887\"],[0.1111111111111111,\"#46039f\"],[0.2222222222222222,\"#7201a8\"],[0.3333333333333333,\"#9c179e\"],[0.4444444444444444,\"#bd3786\"],[0.5555555555555556,\"#d8576b\"],[0.6666666666666666,\"#ed7953\"],[0.7777777777777778,\"#fb9f3a\"],[0.8888888888888888,\"#fdca26\"],[1.0,\"#f0f921\"]],\"sequentialminus\":[[0.0,\"#0d0887\"],[0.1111111111111111,\"#46039f\"],[0.2222222222222222,\"#7201a8\"],[0.3333333333333333,\"#9c179e\"],[0.4444444444444444,\"#bd3786\"],[0.5555555555555556,\"#d8576b\"],[0.6666666666666666,\"#ed7953\"],[0.7777777777777778,\"#fb9f3a\"],[0.8888888888888888,\"#fdca26\"],[1.0,\"#f0f921\"]]},\"colorway\":[\"#636efa\",\"#EF553B\",\"#00cc96\",\"#ab63fa\",\"#FFA15A\",\"#19d3f3\",\"#FF6692\",\"#B6E880\",\"#FF97FF\",\"#FECB52\"],\"font\":{\"color\":\"#2a3f5f\"},\"geo\":{\"bgcolor\":\"white\",\"lakecolor\":\"white\",\"landcolor\":\"#E5ECF6\",\"showlakes\":true,\"showland\":true,\"subunitcolor\":\"white\"},\"hoverlabel\":{\"align\":\"left\"},\"hovermode\":\"closest\",\"mapbox\":{\"style\":\"light\"},\"paper_bgcolor\":\"white\",\"plot_bgcolor\":\"#E5ECF6\",\"polar\":{\"angularaxis\":{\"gridcolor\":\"white\",\"linecolor\":\"white\",\"ticks\":\"\"},\"bgcolor\":\"#E5ECF6\",\"radialaxis\":{\"gridcolor\":\"white\",\"linecolor\":\"white\",\"ticks\":\"\"}},\"scene\":{\"xaxis\":{\"backgroundcolor\":\"#E5ECF6\",\"gridcolor\":\"white\",\"gridwidth\":2,\"linecolor\":\"white\",\"showbackground\":true,\"ticks\":\"\",\"zerolinecolor\":\"white\"},\"yaxis\":{\"backgroundcolor\":\"#E5ECF6\",\"gridcolor\":\"white\",\"gridwidth\":2,\"linecolor\":\"white\",\"showbackground\":true,\"ticks\":\"\",\"zerolinecolor\":\"white\"},\"zaxis\":{\"backgroundcolor\":\"#E5ECF6\",\"gridcolor\":\"white\",\"gridwidth\":2,\"linecolor\":\"white\",\"showbackground\":true,\"ticks\":\"\",\"zerolinecolor\":\"white\"}},\"shapedefaults\":{\"line\":{\"color\":\"#2a3f5f\"}},\"ternary\":{\"aaxis\":{\"gridcolor\":\"white\",\"linecolor\":\"white\",\"ticks\":\"\"},\"baxis\":{\"gridcolor\":\"white\",\"linecolor\":\"white\",\"ticks\":\"\"},\"bgcolor\":\"#E5ECF6\",\"caxis\":{\"gridcolor\":\"white\",\"linecolor\":\"white\",\"ticks\":\"\"}},\"title\":{\"x\":0.05},\"xaxis\":{\"automargin\":true,\"gridcolor\":\"white\",\"linecolor\":\"white\",\"ticks\":\"\",\"title\":{\"standoff\":15},\"zerolinecolor\":\"white\",\"zerolinewidth\":2},\"yaxis\":{\"automargin\":true,\"gridcolor\":\"white\",\"linecolor\":\"white\",\"ticks\":\"\",\"title\":{\"standoff\":15},\"zerolinecolor\":\"white\",\"zerolinewidth\":2}}},\"xaxis\":{\"nticks\":36},\"yaxis\":{\"nticks\":36},\"width\":1500,\"height\":1500},                        {\"responsive\": true}                    ).then(function(){\n",
       "                            \n",
       "var gd = document.getElementById('6e805697-05d7-4858-a772-2116e9cde88f');\n",
       "var x = new MutationObserver(function (mutations, observer) {{\n",
       "        var display = window.getComputedStyle(gd).display;\n",
       "        if (!display || display === 'none') {{\n",
       "            console.log([gd, 'removed!']);\n",
       "            Plotly.purge(gd);\n",
       "            observer.disconnect();\n",
       "        }}\n",
       "}});\n",
       "\n",
       "// Listen for the removal of the full notebook cells\n",
       "var notebookContainer = gd.closest('#notebook-container');\n",
       "if (notebookContainer) {{\n",
       "    x.observe(notebookContainer, {childList: true});\n",
       "}}\n",
       "\n",
       "// Listen for the clearing of the current output cell\n",
       "var outputEl = gd.closest('.output');\n",
       "if (outputEl) {{\n",
       "    x.observe(outputEl, {childList: true});\n",
       "}}\n",
       "\n",
       "                        })                };                });            </script>        </div>"
      ]
     },
     "metadata": {},
     "output_type": "display_data"
    }
   ],
   "source": [
    "fig = go.Figure(data=go.Heatmap(\n",
    "                   z=cor.to_numpy(),\n",
    "                   x=df.columns[4:],\n",
    "                   y=df.columns[4:],\n",
    "                   hoverongaps = False))\n",
    "\n",
    "fig.update_layout(\n",
    "    xaxis_nticks=36,\n",
    "    yaxis_nticks=36,\n",
    "    width=1500,\n",
    "    height=1500,)\n",
    "\n",
    "fig.show()"
   ]
  },
  {
   "cell_type": "code",
   "execution_count": null,
   "id": "9aa254bc-e971-43a8-9705-002a53129a46",
   "metadata": {},
   "outputs": [],
   "source": []
  }
 ],
 "metadata": {
  "kernelspec": {
   "display_name": "Python 3 (ipykernel)",
   "language": "python",
   "name": "python3"
  },
  "language_info": {
   "codemirror_mode": {
    "name": "ipython",
    "version": 3
   },
   "file_extension": ".py",
   "mimetype": "text/x-python",
   "name": "python",
   "nbconvert_exporter": "python",
   "pygments_lexer": "ipython3",
   "version": "3.9.12"
  }
 },
 "nbformat": 4,
 "nbformat_minor": 5
}
